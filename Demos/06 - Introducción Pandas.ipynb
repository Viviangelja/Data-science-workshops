{
 "cells": [
  {
   "cell_type": "code",
   "execution_count": 1,
   "id": "b8004006",
   "metadata": {},
   "outputs": [],
   "source": [
    "import pandas as pd"
   ]
  },
  {
   "cell_type": "markdown",
   "id": "45c3a255",
   "metadata": {},
   "source": [
    "Veremos unos ejemplos simples usando Pandas y un dataset the Pokemon."
   ]
  },
  {
   "cell_type": "markdown",
   "id": "ce2c2d7c",
   "metadata": {},
   "source": [
    "## Leer datos"
   ]
  },
  {
   "cell_type": "markdown",
   "id": "4e5628a5",
   "metadata": {},
   "source": [
    "Para leer los datos usaremos la opción <a href=\"https://pandas.pydata.org/docs/reference/api/pandas.read_csv.html\">pd.read_csv</a> que nos ofrece Pandas para facilitar la lectura de datos, también podemos ver:\n",
    "\n",
    "* <a href=\"https://pandas.pydata.org/docs/reference/api/pandas.read_csv.html\">pd.read_csv</a>\n",
    "* <a href=\"https://pandas.pydata.org/pandas-docs/stable/reference/api/pandas.read_excel.html\">pd.read_excel</a>\n",
    "* <a href=\"https://pandas.pydata.org/pandas-docs/stable/reference/api/pandas.read_sql.html\">pd.read_sql</a>\n",
    "* <a href=\"https://pandas.pydata.org/pandas-docs/stable/reference/api/pandas.io.json.read_json.html\">pd.read_json</a>\n",
    "\n",
    "Entre otros ..."
   ]
  },
  {
   "cell_type": "code",
   "execution_count": 2,
   "id": "100c9e51",
   "metadata": {},
   "outputs": [],
   "source": [
    "df_gen1 = pd.read_csv(\"data/pokemon-gen1-data.csv\")\n",
    "df_gen2 = pd.read_csv(\"data/pokemon-gen2-data.csv\")"
   ]
  },
  {
   "cell_type": "code",
   "execution_count": 5,
   "id": "46185f45",
   "metadata": {},
   "outputs": [
    {
     "data": {
      "text/plain": [
       "pandas.core.frame.DataFrame"
      ]
     },
     "execution_count": 5,
     "metadata": {},
     "output_type": "execute_result"
    }
   ],
   "source": [
    "type(df_gen2)"
   ]
  },
  {
   "cell_type": "markdown",
   "id": "f40a9e75",
   "metadata": {},
   "source": [
    "Visualizar las primeras filas del nuestro Data Frame para verficar que la lectura se haya realizado correctamente.\n",
    "\n",
    "<a href=https://pandas.pydata.org/docs/reference/api/pandas.DataFrame.head.html> pd.DataFrame.head </a>"
   ]
  },
  {
   "cell_type": "code",
   "execution_count": 7,
   "id": "535fc743",
   "metadata": {},
   "outputs": [
    {
     "data": {
      "text/html": [
       "<div>\n",
       "<style scoped>\n",
       "    .dataframe tbody tr th:only-of-type {\n",
       "        vertical-align: middle;\n",
       "    }\n",
       "\n",
       "    .dataframe tbody tr th {\n",
       "        vertical-align: top;\n",
       "    }\n",
       "\n",
       "    .dataframe thead th {\n",
       "        text-align: right;\n",
       "    }\n",
       "</style>\n",
       "<table border=\"1\" class=\"dataframe\">\n",
       "  <thead>\n",
       "    <tr style=\"text-align: right;\">\n",
       "      <th></th>\n",
       "      <th>Pokemon</th>\n",
       "      <th>Number</th>\n",
       "      <th>Type1</th>\n",
       "      <th>Type2</th>\n",
       "      <th>Ability1</th>\n",
       "      <th>Ability2</th>\n",
       "      <th>Ability3</th>\n",
       "      <th>HP</th>\n",
       "      <th>Attack</th>\n",
       "      <th>Defense</th>\n",
       "      <th>Sp. Atk</th>\n",
       "      <th>Sp. Def</th>\n",
       "      <th>Speed</th>\n",
       "      <th>Sprite</th>\n",
       "    </tr>\n",
       "  </thead>\n",
       "  <tbody>\n",
       "    <tr>\n",
       "      <th>0</th>\n",
       "      <td>Bulbasaur</td>\n",
       "      <td>1</td>\n",
       "      <td>GRASS</td>\n",
       "      <td>POISON</td>\n",
       "      <td>Overgrow</td>\n",
       "      <td>Chlorophyll</td>\n",
       "      <td>none</td>\n",
       "      <td>45</td>\n",
       "      <td>49</td>\n",
       "      <td>49</td>\n",
       "      <td>65</td>\n",
       "      <td>65</td>\n",
       "      <td>45</td>\n",
       "      <td>https://play.pokemonshowdown.com/sprites/bw/bu...</td>\n",
       "    </tr>\n",
       "    <tr>\n",
       "      <th>1</th>\n",
       "      <td>Ivysaur</td>\n",
       "      <td>2</td>\n",
       "      <td>GRASS</td>\n",
       "      <td>POISON</td>\n",
       "      <td>Overgrow</td>\n",
       "      <td>Chlorophyll</td>\n",
       "      <td>none</td>\n",
       "      <td>60</td>\n",
       "      <td>62</td>\n",
       "      <td>63</td>\n",
       "      <td>80</td>\n",
       "      <td>80</td>\n",
       "      <td>60</td>\n",
       "      <td>https://play.pokemonshowdown.com/sprites/bw/iv...</td>\n",
       "    </tr>\n",
       "    <tr>\n",
       "      <th>2</th>\n",
       "      <td>Venusaur</td>\n",
       "      <td>3</td>\n",
       "      <td>GRASS</td>\n",
       "      <td>POISON</td>\n",
       "      <td>Overgrow</td>\n",
       "      <td>Chlorophyll</td>\n",
       "      <td>none</td>\n",
       "      <td>80</td>\n",
       "      <td>82</td>\n",
       "      <td>83</td>\n",
       "      <td>100</td>\n",
       "      <td>100</td>\n",
       "      <td>80</td>\n",
       "      <td>https://play.pokemonshowdown.com/sprites/bw/ve...</td>\n",
       "    </tr>\n",
       "  </tbody>\n",
       "</table>\n",
       "</div>"
      ],
      "text/plain": [
       "     Pokemon   Number  Type1   Type2  Ability1     Ability2  Ability3   HP  \\\n",
       "0  Bulbasaur        1  GRASS  POISON  Overgrow  Chlorophyll      none   45   \n",
       "1    Ivysaur        2  GRASS  POISON  Overgrow  Chlorophyll      none   60   \n",
       "2   Venusaur        3  GRASS  POISON  Overgrow  Chlorophyll      none   80   \n",
       "\n",
       "    Attack   Defense   Sp. Atk   Sp. Def   Speed  \\\n",
       "0       49        49        65        65      45   \n",
       "1       62        63        80        80      60   \n",
       "2       82        83       100       100      80   \n",
       "\n",
       "                                              Sprite  \n",
       "0  https://play.pokemonshowdown.com/sprites/bw/bu...  \n",
       "1  https://play.pokemonshowdown.com/sprites/bw/iv...  \n",
       "2  https://play.pokemonshowdown.com/sprites/bw/ve...  "
      ]
     },
     "execution_count": 7,
     "metadata": {},
     "output_type": "execute_result"
    }
   ],
   "source": [
    "df_gen1.head(3)"
   ]
  },
  {
   "cell_type": "code",
   "execution_count": 8,
   "id": "3d60e2d3",
   "metadata": {},
   "outputs": [
    {
     "data": {
      "text/html": [
       "<div>\n",
       "<style scoped>\n",
       "    .dataframe tbody tr th:only-of-type {\n",
       "        vertical-align: middle;\n",
       "    }\n",
       "\n",
       "    .dataframe tbody tr th {\n",
       "        vertical-align: top;\n",
       "    }\n",
       "\n",
       "    .dataframe thead th {\n",
       "        text-align: right;\n",
       "    }\n",
       "</style>\n",
       "<table border=\"1\" class=\"dataframe\">\n",
       "  <thead>\n",
       "    <tr style=\"text-align: right;\">\n",
       "      <th></th>\n",
       "      <th>Pokemon</th>\n",
       "      <th>Number</th>\n",
       "      <th>Type1</th>\n",
       "      <th>Type2</th>\n",
       "      <th>Ability1</th>\n",
       "      <th>Ability2</th>\n",
       "      <th>Ability3</th>\n",
       "      <th>HP</th>\n",
       "      <th>Attack</th>\n",
       "      <th>Defense</th>\n",
       "      <th>Sp. Atk</th>\n",
       "      <th>Sp. Def</th>\n",
       "      <th>Speed</th>\n",
       "      <th>Sprite</th>\n",
       "    </tr>\n",
       "  </thead>\n",
       "  <tbody>\n",
       "    <tr>\n",
       "      <th>0</th>\n",
       "      <td>Chikorita</td>\n",
       "      <td>152</td>\n",
       "      <td>GRASS</td>\n",
       "      <td>none</td>\n",
       "      <td>Overgrow</td>\n",
       "      <td>Leaf Guard</td>\n",
       "      <td>none</td>\n",
       "      <td>45</td>\n",
       "      <td>49</td>\n",
       "      <td>65</td>\n",
       "      <td>49</td>\n",
       "      <td>65</td>\n",
       "      <td>45</td>\n",
       "      <td>https://play.pokemonshowdown.com/sprites/bw/ch...</td>\n",
       "    </tr>\n",
       "    <tr>\n",
       "      <th>1</th>\n",
       "      <td>Bayleef</td>\n",
       "      <td>153</td>\n",
       "      <td>GRASS</td>\n",
       "      <td>none</td>\n",
       "      <td>Overgrow</td>\n",
       "      <td>Leaf Guard</td>\n",
       "      <td>none</td>\n",
       "      <td>60</td>\n",
       "      <td>62</td>\n",
       "      <td>80</td>\n",
       "      <td>63</td>\n",
       "      <td>80</td>\n",
       "      <td>60</td>\n",
       "      <td>https://play.pokemonshowdown.com/sprites/bw/ba...</td>\n",
       "    </tr>\n",
       "    <tr>\n",
       "      <th>2</th>\n",
       "      <td>Meganium</td>\n",
       "      <td>154</td>\n",
       "      <td>GRASS</td>\n",
       "      <td>none</td>\n",
       "      <td>Overgrow</td>\n",
       "      <td>Leaf Guard</td>\n",
       "      <td>none</td>\n",
       "      <td>80</td>\n",
       "      <td>82</td>\n",
       "      <td>100</td>\n",
       "      <td>83</td>\n",
       "      <td>100</td>\n",
       "      <td>80</td>\n",
       "      <td>https://play.pokemonshowdown.com/sprites/bw/me...</td>\n",
       "    </tr>\n",
       "  </tbody>\n",
       "</table>\n",
       "</div>"
      ],
      "text/plain": [
       "     Pokemon   Number  Type1  Type2  Ability1    Ability2  Ability3   HP  \\\n",
       "0  Chikorita      152  GRASS   none  Overgrow  Leaf Guard      none   45   \n",
       "1    Bayleef      153  GRASS   none  Overgrow  Leaf Guard      none   60   \n",
       "2   Meganium      154  GRASS   none  Overgrow  Leaf Guard      none   80   \n",
       "\n",
       "    Attack   Defense   Sp. Atk   Sp. Def   Speed  \\\n",
       "0       49        65        49        65      45   \n",
       "1       62        80        63        80      60   \n",
       "2       82       100        83       100      80   \n",
       "\n",
       "                                              Sprite  \n",
       "0  https://play.pokemonshowdown.com/sprites/bw/ch...  \n",
       "1  https://play.pokemonshowdown.com/sprites/bw/ba...  \n",
       "2  https://play.pokemonshowdown.com/sprites/bw/me...  "
      ]
     },
     "execution_count": 8,
     "metadata": {},
     "output_type": "execute_result"
    }
   ],
   "source": [
    "df_gen2.head(3)"
   ]
  },
  {
   "cell_type": "markdown",
   "id": "b50f4c02",
   "metadata": {},
   "source": [
    "## Unir fuentes de datos"
   ]
  },
  {
   "cell_type": "markdown",
   "id": "65236a23",
   "metadata": {},
   "source": [
    "Generalmente tenemos varias fuentes de datos y debemos consolidarlas en una sola tabla.\n",
    "\n",
    "<a href=https://pandas.pydata.org/pandas-docs/stable/reference/api/pandas.concat.html >pd.concat </a>"
   ]
  },
  {
   "cell_type": "code",
   "execution_count": 9,
   "id": "ae8a8f5d",
   "metadata": {},
   "outputs": [],
   "source": [
    "df = pd.concat([df_gen1, df_gen2], keys=[\"gen1\", \"gen2\"])"
   ]
  },
  {
   "cell_type": "code",
   "execution_count": 10,
   "id": "7d368006",
   "metadata": {},
   "outputs": [
    {
     "data": {
      "text/html": [
       "<div>\n",
       "<style scoped>\n",
       "    .dataframe tbody tr th:only-of-type {\n",
       "        vertical-align: middle;\n",
       "    }\n",
       "\n",
       "    .dataframe tbody tr th {\n",
       "        vertical-align: top;\n",
       "    }\n",
       "\n",
       "    .dataframe thead th {\n",
       "        text-align: right;\n",
       "    }\n",
       "</style>\n",
       "<table border=\"1\" class=\"dataframe\">\n",
       "  <thead>\n",
       "    <tr style=\"text-align: right;\">\n",
       "      <th></th>\n",
       "      <th></th>\n",
       "      <th>Pokemon</th>\n",
       "      <th>Number</th>\n",
       "      <th>Type1</th>\n",
       "      <th>Type2</th>\n",
       "      <th>Ability1</th>\n",
       "      <th>Ability2</th>\n",
       "      <th>Ability3</th>\n",
       "      <th>HP</th>\n",
       "      <th>Attack</th>\n",
       "      <th>Defense</th>\n",
       "      <th>Sp. Atk</th>\n",
       "      <th>Sp. Def</th>\n",
       "      <th>Speed</th>\n",
       "      <th>Sprite</th>\n",
       "    </tr>\n",
       "  </thead>\n",
       "  <tbody>\n",
       "    <tr>\n",
       "      <th rowspan=\"5\" valign=\"top\">gen1</th>\n",
       "      <th>0</th>\n",
       "      <td>Bulbasaur</td>\n",
       "      <td>1</td>\n",
       "      <td>GRASS</td>\n",
       "      <td>POISON</td>\n",
       "      <td>Overgrow</td>\n",
       "      <td>Chlorophyll</td>\n",
       "      <td>none</td>\n",
       "      <td>45</td>\n",
       "      <td>49</td>\n",
       "      <td>49</td>\n",
       "      <td>65</td>\n",
       "      <td>65</td>\n",
       "      <td>45</td>\n",
       "      <td>https://play.pokemonshowdown.com/sprites/bw/bu...</td>\n",
       "    </tr>\n",
       "    <tr>\n",
       "      <th>1</th>\n",
       "      <td>Ivysaur</td>\n",
       "      <td>2</td>\n",
       "      <td>GRASS</td>\n",
       "      <td>POISON</td>\n",
       "      <td>Overgrow</td>\n",
       "      <td>Chlorophyll</td>\n",
       "      <td>none</td>\n",
       "      <td>60</td>\n",
       "      <td>62</td>\n",
       "      <td>63</td>\n",
       "      <td>80</td>\n",
       "      <td>80</td>\n",
       "      <td>60</td>\n",
       "      <td>https://play.pokemonshowdown.com/sprites/bw/iv...</td>\n",
       "    </tr>\n",
       "    <tr>\n",
       "      <th>2</th>\n",
       "      <td>Venusaur</td>\n",
       "      <td>3</td>\n",
       "      <td>GRASS</td>\n",
       "      <td>POISON</td>\n",
       "      <td>Overgrow</td>\n",
       "      <td>Chlorophyll</td>\n",
       "      <td>none</td>\n",
       "      <td>80</td>\n",
       "      <td>82</td>\n",
       "      <td>83</td>\n",
       "      <td>100</td>\n",
       "      <td>100</td>\n",
       "      <td>80</td>\n",
       "      <td>https://play.pokemonshowdown.com/sprites/bw/ve...</td>\n",
       "    </tr>\n",
       "    <tr>\n",
       "      <th>3</th>\n",
       "      <td>Charmander</td>\n",
       "      <td>4</td>\n",
       "      <td>FIRE</td>\n",
       "      <td>none</td>\n",
       "      <td>Blaze</td>\n",
       "      <td>Solar Power</td>\n",
       "      <td>none</td>\n",
       "      <td>39</td>\n",
       "      <td>52</td>\n",
       "      <td>43</td>\n",
       "      <td>60</td>\n",
       "      <td>50</td>\n",
       "      <td>65</td>\n",
       "      <td>https://play.pokemonshowdown.com/sprites/bw/ch...</td>\n",
       "    </tr>\n",
       "    <tr>\n",
       "      <th>4</th>\n",
       "      <td>Charmeleon</td>\n",
       "      <td>5</td>\n",
       "      <td>FIRE</td>\n",
       "      <td>none</td>\n",
       "      <td>Blaze</td>\n",
       "      <td>Solar Power</td>\n",
       "      <td>none</td>\n",
       "      <td>58</td>\n",
       "      <td>64</td>\n",
       "      <td>58</td>\n",
       "      <td>80</td>\n",
       "      <td>65</td>\n",
       "      <td>80</td>\n",
       "      <td>https://play.pokemonshowdown.com/sprites/bw/ch...</td>\n",
       "    </tr>\n",
       "    <tr>\n",
       "      <th>...</th>\n",
       "      <th>...</th>\n",
       "      <td>...</td>\n",
       "      <td>...</td>\n",
       "      <td>...</td>\n",
       "      <td>...</td>\n",
       "      <td>...</td>\n",
       "      <td>...</td>\n",
       "      <td>...</td>\n",
       "      <td>...</td>\n",
       "      <td>...</td>\n",
       "      <td>...</td>\n",
       "      <td>...</td>\n",
       "      <td>...</td>\n",
       "      <td>...</td>\n",
       "      <td>...</td>\n",
       "    </tr>\n",
       "    <tr>\n",
       "      <th rowspan=\"5\" valign=\"top\">gen2</th>\n",
       "      <th>95</th>\n",
       "      <td>Pupitar</td>\n",
       "      <td>247</td>\n",
       "      <td>ROCK</td>\n",
       "      <td>GROUND</td>\n",
       "      <td>Shed Skin</td>\n",
       "      <td>none</td>\n",
       "      <td>none</td>\n",
       "      <td>70</td>\n",
       "      <td>84</td>\n",
       "      <td>70</td>\n",
       "      <td>65</td>\n",
       "      <td>70</td>\n",
       "      <td>51</td>\n",
       "      <td>https://play.pokemonshowdown.com/sprites/bw/pu...</td>\n",
       "    </tr>\n",
       "    <tr>\n",
       "      <th>96</th>\n",
       "      <td>Tyranitar</td>\n",
       "      <td>248</td>\n",
       "      <td>ROCK</td>\n",
       "      <td>DARK</td>\n",
       "      <td>Sand Stream</td>\n",
       "      <td>Unnerve</td>\n",
       "      <td>none</td>\n",
       "      <td>100</td>\n",
       "      <td>134</td>\n",
       "      <td>110</td>\n",
       "      <td>95</td>\n",
       "      <td>100</td>\n",
       "      <td>61</td>\n",
       "      <td>https://play.pokemonshowdown.com/sprites/bw/ty...</td>\n",
       "    </tr>\n",
       "    <tr>\n",
       "      <th>97</th>\n",
       "      <td>Lugia</td>\n",
       "      <td>249</td>\n",
       "      <td>PSYCHIC</td>\n",
       "      <td>FLYING</td>\n",
       "      <td>Pressure</td>\n",
       "      <td>Multiscale</td>\n",
       "      <td>none</td>\n",
       "      <td>106</td>\n",
       "      <td>90</td>\n",
       "      <td>130</td>\n",
       "      <td>90</td>\n",
       "      <td>154</td>\n",
       "      <td>110</td>\n",
       "      <td>https://play.pokemonshowdown.com/sprites/bw/lu...</td>\n",
       "    </tr>\n",
       "    <tr>\n",
       "      <th>98</th>\n",
       "      <td>Ho-Oh</td>\n",
       "      <td>250</td>\n",
       "      <td>FIRE</td>\n",
       "      <td>FLYING</td>\n",
       "      <td>Pressure</td>\n",
       "      <td>Regenerator</td>\n",
       "      <td>none</td>\n",
       "      <td>106</td>\n",
       "      <td>130</td>\n",
       "      <td>90</td>\n",
       "      <td>110</td>\n",
       "      <td>154</td>\n",
       "      <td>90</td>\n",
       "      <td>https://play.pokemonshowdown.com/sprites/bw/ho...</td>\n",
       "    </tr>\n",
       "    <tr>\n",
       "      <th>99</th>\n",
       "      <td>Celebi</td>\n",
       "      <td>251</td>\n",
       "      <td>PSYCHIC</td>\n",
       "      <td>GRASS</td>\n",
       "      <td>Natural Cure</td>\n",
       "      <td>none</td>\n",
       "      <td>none</td>\n",
       "      <td>100</td>\n",
       "      <td>100</td>\n",
       "      <td>100</td>\n",
       "      <td>100</td>\n",
       "      <td>100</td>\n",
       "      <td>100</td>\n",
       "      <td>https://play.pokemonshowdown.com/sprites/bw/ce...</td>\n",
       "    </tr>\n",
       "  </tbody>\n",
       "</table>\n",
       "<p>251 rows × 14 columns</p>\n",
       "</div>"
      ],
      "text/plain": [
       "            Pokemon   Number    Type1   Type2      Ability1     Ability2  \\\n",
       "gen1 0    Bulbasaur        1    GRASS  POISON      Overgrow  Chlorophyll   \n",
       "     1      Ivysaur        2    GRASS  POISON      Overgrow  Chlorophyll   \n",
       "     2     Venusaur        3    GRASS  POISON      Overgrow  Chlorophyll   \n",
       "     3   Charmander        4     FIRE    none         Blaze  Solar Power   \n",
       "     4   Charmeleon        5     FIRE    none         Blaze  Solar Power   \n",
       "...             ...      ...      ...     ...           ...          ...   \n",
       "gen2 95     Pupitar      247     ROCK  GROUND     Shed Skin         none   \n",
       "     96   Tyranitar      248     ROCK    DARK   Sand Stream      Unnerve   \n",
       "     97       Lugia      249  PSYCHIC  FLYING      Pressure   Multiscale   \n",
       "     98       Ho-Oh      250     FIRE  FLYING      Pressure  Regenerator   \n",
       "     99      Celebi      251  PSYCHIC   GRASS  Natural Cure         none   \n",
       "\n",
       "         Ability3   HP   Attack   Defense   Sp. Atk   Sp. Def   Speed  \\\n",
       "gen1 0       none   45       49        49        65        65      45   \n",
       "     1       none   60       62        63        80        80      60   \n",
       "     2       none   80       82        83       100       100      80   \n",
       "     3       none   39       52        43        60        50      65   \n",
       "     4       none   58       64        58        80        65      80   \n",
       "...           ...  ...      ...       ...       ...       ...     ...   \n",
       "gen2 95      none   70       84        70        65        70      51   \n",
       "     96      none  100      134       110        95       100      61   \n",
       "     97      none  106       90       130        90       154     110   \n",
       "     98      none  106      130        90       110       154      90   \n",
       "     99      none  100      100       100       100       100     100   \n",
       "\n",
       "                                                    Sprite  \n",
       "gen1 0   https://play.pokemonshowdown.com/sprites/bw/bu...  \n",
       "     1   https://play.pokemonshowdown.com/sprites/bw/iv...  \n",
       "     2   https://play.pokemonshowdown.com/sprites/bw/ve...  \n",
       "     3   https://play.pokemonshowdown.com/sprites/bw/ch...  \n",
       "     4   https://play.pokemonshowdown.com/sprites/bw/ch...  \n",
       "...                                                    ...  \n",
       "gen2 95  https://play.pokemonshowdown.com/sprites/bw/pu...  \n",
       "     96  https://play.pokemonshowdown.com/sprites/bw/ty...  \n",
       "     97  https://play.pokemonshowdown.com/sprites/bw/lu...  \n",
       "     98  https://play.pokemonshowdown.com/sprites/bw/ho...  \n",
       "     99  https://play.pokemonshowdown.com/sprites/bw/ce...  \n",
       "\n",
       "[251 rows x 14 columns]"
      ]
     },
     "execution_count": 10,
     "metadata": {},
     "output_type": "execute_result"
    }
   ],
   "source": [
    "df"
   ]
  },
  {
   "cell_type": "markdown",
   "id": "2be25ee3",
   "metadata": {},
   "source": [
    "Si se desea eliminar estos \"Multi Indices\" o \"indices jerárquicos\" procedemos con el comando \"reset_index\" "
   ]
  },
  {
   "cell_type": "code",
   "execution_count": 11,
   "id": "5c1d2456",
   "metadata": {},
   "outputs": [
    {
     "data": {
      "text/html": [
       "<div>\n",
       "<style scoped>\n",
       "    .dataframe tbody tr th:only-of-type {\n",
       "        vertical-align: middle;\n",
       "    }\n",
       "\n",
       "    .dataframe tbody tr th {\n",
       "        vertical-align: top;\n",
       "    }\n",
       "\n",
       "    .dataframe thead th {\n",
       "        text-align: right;\n",
       "    }\n",
       "</style>\n",
       "<table border=\"1\" class=\"dataframe\">\n",
       "  <thead>\n",
       "    <tr style=\"text-align: right;\">\n",
       "      <th></th>\n",
       "      <th>generation</th>\n",
       "      <th>Pokemon</th>\n",
       "      <th>Number</th>\n",
       "      <th>Type1</th>\n",
       "      <th>Type2</th>\n",
       "      <th>Ability1</th>\n",
       "      <th>Ability2</th>\n",
       "      <th>Ability3</th>\n",
       "      <th>HP</th>\n",
       "      <th>Attack</th>\n",
       "      <th>Defense</th>\n",
       "      <th>Sp. Atk</th>\n",
       "      <th>Sp. Def</th>\n",
       "      <th>Speed</th>\n",
       "      <th>Sprite</th>\n",
       "    </tr>\n",
       "  </thead>\n",
       "  <tbody>\n",
       "    <tr>\n",
       "      <th>0</th>\n",
       "      <td>gen1</td>\n",
       "      <td>Bulbasaur</td>\n",
       "      <td>1</td>\n",
       "      <td>GRASS</td>\n",
       "      <td>POISON</td>\n",
       "      <td>Overgrow</td>\n",
       "      <td>Chlorophyll</td>\n",
       "      <td>none</td>\n",
       "      <td>45</td>\n",
       "      <td>49</td>\n",
       "      <td>49</td>\n",
       "      <td>65</td>\n",
       "      <td>65</td>\n",
       "      <td>45</td>\n",
       "      <td>https://play.pokemonshowdown.com/sprites/bw/bu...</td>\n",
       "    </tr>\n",
       "    <tr>\n",
       "      <th>1</th>\n",
       "      <td>gen1</td>\n",
       "      <td>Ivysaur</td>\n",
       "      <td>2</td>\n",
       "      <td>GRASS</td>\n",
       "      <td>POISON</td>\n",
       "      <td>Overgrow</td>\n",
       "      <td>Chlorophyll</td>\n",
       "      <td>none</td>\n",
       "      <td>60</td>\n",
       "      <td>62</td>\n",
       "      <td>63</td>\n",
       "      <td>80</td>\n",
       "      <td>80</td>\n",
       "      <td>60</td>\n",
       "      <td>https://play.pokemonshowdown.com/sprites/bw/iv...</td>\n",
       "    </tr>\n",
       "    <tr>\n",
       "      <th>2</th>\n",
       "      <td>gen1</td>\n",
       "      <td>Venusaur</td>\n",
       "      <td>3</td>\n",
       "      <td>GRASS</td>\n",
       "      <td>POISON</td>\n",
       "      <td>Overgrow</td>\n",
       "      <td>Chlorophyll</td>\n",
       "      <td>none</td>\n",
       "      <td>80</td>\n",
       "      <td>82</td>\n",
       "      <td>83</td>\n",
       "      <td>100</td>\n",
       "      <td>100</td>\n",
       "      <td>80</td>\n",
       "      <td>https://play.pokemonshowdown.com/sprites/bw/ve...</td>\n",
       "    </tr>\n",
       "  </tbody>\n",
       "</table>\n",
       "</div>"
      ],
      "text/plain": [
       "  generation    Pokemon   Number  Type1   Type2  Ability1     Ability2  \\\n",
       "0       gen1  Bulbasaur        1  GRASS  POISON  Overgrow  Chlorophyll   \n",
       "1       gen1    Ivysaur        2  GRASS  POISON  Overgrow  Chlorophyll   \n",
       "2       gen1   Venusaur        3  GRASS  POISON  Overgrow  Chlorophyll   \n",
       "\n",
       "   Ability3   HP   Attack   Defense   Sp. Atk   Sp. Def   Speed  \\\n",
       "0      none   45       49        49        65        65      45   \n",
       "1      none   60       62        63        80        80      60   \n",
       "2      none   80       82        83       100       100      80   \n",
       "\n",
       "                                              Sprite  \n",
       "0  https://play.pokemonshowdown.com/sprites/bw/bu...  \n",
       "1  https://play.pokemonshowdown.com/sprites/bw/iv...  \n",
       "2  https://play.pokemonshowdown.com/sprites/bw/ve...  "
      ]
     },
     "execution_count": 11,
     "metadata": {},
     "output_type": "execute_result"
    }
   ],
   "source": [
    "df = df.reset_index(level=0).rename(columns={\"level_0\": \"generation\"}).reset_index().drop(columns=\"index\")\n",
    "df.head(3)"
   ]
  },
  {
   "cell_type": "markdown",
   "id": "eea8c7f1",
   "metadata": {},
   "source": [
    "## Información general de columnas"
   ]
  },
  {
   "cell_type": "markdown",
   "id": "424dab52",
   "metadata": {},
   "source": [
    "Este método nos entrega información muy general de las columnas donde podemos observar:\n",
    "\n",
    "* Nombre de la columna\n",
    "* Cantidad de valores nulos\n",
    "* Tipos de datos"
   ]
  },
  {
   "cell_type": "code",
   "execution_count": 35,
   "id": "1c933e0e",
   "metadata": {},
   "outputs": [
    {
     "name": "stdout",
     "output_type": "stream",
     "text": [
      "<class 'pandas.core.frame.DataFrame'>\n",
      "RangeIndex: 251 entries, 0 to 250\n",
      "Data columns (total 15 columns):\n",
      " #   Column      Non-Null Count  Dtype \n",
      "---  ------      --------------  ----- \n",
      " 0   generation  251 non-null    object\n",
      " 1   Pokemon     251 non-null    object\n",
      " 2    Number     251 non-null    int64 \n",
      " 3    Type1      251 non-null    object\n",
      " 4    Type2      251 non-null    object\n",
      " 5    Ability1   251 non-null    object\n",
      " 6    Ability2   251 non-null    object\n",
      " 7    Ability3   251 non-null    object\n",
      " 8    HP         251 non-null    int64 \n",
      " 9    Attack     251 non-null    int64 \n",
      " 10   Defense    251 non-null    int64 \n",
      " 11   Sp. Atk    251 non-null    int64 \n",
      " 12   Sp. Def    251 non-null    int64 \n",
      " 13   Speed      251 non-null    int64 \n",
      " 14   Sprite     251 non-null    object\n",
      "dtypes: int64(7), object(8)\n",
      "memory usage: 29.5+ KB\n"
     ]
    }
   ],
   "source": [
    "df.info()"
   ]
  },
  {
   "cell_type": "markdown",
   "id": "4f31ea3c",
   "metadata": {},
   "source": [
    "## Información detallada de columnas"
   ]
  },
  {
   "cell_type": "markdown",
   "id": "232b4f60",
   "metadata": {},
   "source": [
    "Este método nos entrega información muy general de las columnas donde podemos observar:\n",
    "\n",
    "* Cantidad\n",
    "* Promedio\n",
    "* Desviación estándar\n",
    "* Valores máximos y mínimos\n",
    "* Percentiles"
   ]
  },
  {
   "cell_type": "code",
   "execution_count": 13,
   "id": "dfd20df1",
   "metadata": {},
   "outputs": [
    {
     "data": {
      "text/html": [
       "<div>\n",
       "<style scoped>\n",
       "    .dataframe tbody tr th:only-of-type {\n",
       "        vertical-align: middle;\n",
       "    }\n",
       "\n",
       "    .dataframe tbody tr th {\n",
       "        vertical-align: top;\n",
       "    }\n",
       "\n",
       "    .dataframe thead th {\n",
       "        text-align: right;\n",
       "    }\n",
       "</style>\n",
       "<table border=\"1\" class=\"dataframe\">\n",
       "  <thead>\n",
       "    <tr style=\"text-align: right;\">\n",
       "      <th></th>\n",
       "      <th>Number</th>\n",
       "      <th>HP</th>\n",
       "      <th>Attack</th>\n",
       "      <th>Defense</th>\n",
       "      <th>Sp. Atk</th>\n",
       "      <th>Sp. Def</th>\n",
       "      <th>Speed</th>\n",
       "    </tr>\n",
       "  </thead>\n",
       "  <tbody>\n",
       "    <tr>\n",
       "      <th>count</th>\n",
       "      <td>251.000000</td>\n",
       "      <td>251.000000</td>\n",
       "      <td>251.000000</td>\n",
       "      <td>251.000000</td>\n",
       "      <td>251.000000</td>\n",
       "      <td>251.000000</td>\n",
       "      <td>251.000000</td>\n",
       "    </tr>\n",
       "    <tr>\n",
       "      <th>mean</th>\n",
       "      <td>126.000000</td>\n",
       "      <td>66.908367</td>\n",
       "      <td>71.059761</td>\n",
       "      <td>68.808765</td>\n",
       "      <td>66.087649</td>\n",
       "      <td>68.577689</td>\n",
       "      <td>66.015936</td>\n",
       "    </tr>\n",
       "    <tr>\n",
       "      <th>std</th>\n",
       "      <td>72.601653</td>\n",
       "      <td>29.794153</td>\n",
       "      <td>27.469117</td>\n",
       "      <td>30.442524</td>\n",
       "      <td>27.373277</td>\n",
       "      <td>27.480556</td>\n",
       "      <td>27.316510</td>\n",
       "    </tr>\n",
       "    <tr>\n",
       "      <th>min</th>\n",
       "      <td>1.000000</td>\n",
       "      <td>10.000000</td>\n",
       "      <td>5.000000</td>\n",
       "      <td>5.000000</td>\n",
       "      <td>10.000000</td>\n",
       "      <td>20.000000</td>\n",
       "      <td>5.000000</td>\n",
       "    </tr>\n",
       "    <tr>\n",
       "      <th>25%</th>\n",
       "      <td>63.500000</td>\n",
       "      <td>49.000000</td>\n",
       "      <td>50.000000</td>\n",
       "      <td>49.500000</td>\n",
       "      <td>45.000000</td>\n",
       "      <td>50.000000</td>\n",
       "      <td>45.000000</td>\n",
       "    </tr>\n",
       "    <tr>\n",
       "      <th>50%</th>\n",
       "      <td>126.000000</td>\n",
       "      <td>65.000000</td>\n",
       "      <td>70.000000</td>\n",
       "      <td>65.000000</td>\n",
       "      <td>65.000000</td>\n",
       "      <td>65.000000</td>\n",
       "      <td>65.000000</td>\n",
       "    </tr>\n",
       "    <tr>\n",
       "      <th>75%</th>\n",
       "      <td>188.500000</td>\n",
       "      <td>80.000000</td>\n",
       "      <td>90.000000</td>\n",
       "      <td>85.000000</td>\n",
       "      <td>85.000000</td>\n",
       "      <td>85.000000</td>\n",
       "      <td>85.000000</td>\n",
       "    </tr>\n",
       "    <tr>\n",
       "      <th>max</th>\n",
       "      <td>251.000000</td>\n",
       "      <td>255.000000</td>\n",
       "      <td>134.000000</td>\n",
       "      <td>230.000000</td>\n",
       "      <td>154.000000</td>\n",
       "      <td>230.000000</td>\n",
       "      <td>150.000000</td>\n",
       "    </tr>\n",
       "  </tbody>\n",
       "</table>\n",
       "</div>"
      ],
      "text/plain": [
       "           Number          HP      Attack     Defense     Sp. Atk     Sp. Def  \\\n",
       "count  251.000000  251.000000  251.000000  251.000000  251.000000  251.000000   \n",
       "mean   126.000000   66.908367   71.059761   68.808765   66.087649   68.577689   \n",
       "std     72.601653   29.794153   27.469117   30.442524   27.373277   27.480556   \n",
       "min      1.000000   10.000000    5.000000    5.000000   10.000000   20.000000   \n",
       "25%     63.500000   49.000000   50.000000   49.500000   45.000000   50.000000   \n",
       "50%    126.000000   65.000000   70.000000   65.000000   65.000000   65.000000   \n",
       "75%    188.500000   80.000000   90.000000   85.000000   85.000000   85.000000   \n",
       "max    251.000000  255.000000  134.000000  230.000000  154.000000  230.000000   \n",
       "\n",
       "            Speed  \n",
       "count  251.000000  \n",
       "mean    66.015936  \n",
       "std     27.316510  \n",
       "min      5.000000  \n",
       "25%     45.000000  \n",
       "50%     65.000000  \n",
       "75%     85.000000  \n",
       "max    150.000000  "
      ]
     },
     "execution_count": 13,
     "metadata": {},
     "output_type": "execute_result"
    }
   ],
   "source": [
    "df.describe()"
   ]
  },
  {
   "cell_type": "markdown",
   "id": "ba1bb34c",
   "metadata": {},
   "source": [
    "## Operaciones básicas"
   ]
  },
  {
   "cell_type": "markdown",
   "id": "9071a625",
   "metadata": {},
   "source": [
    "Encontrar información en las columas relevantes, por ejemplo:\n",
    "\n",
    "* La velocidad promedio de los Pokemons\n",
    "* Las ventas totales en un periodo de tiempo\n",
    "* El máximo de unidades vendidas \n",
    "\n",
    "Y miles de ejemplos más ..."
   ]
  },
  {
   "cell_type": "code",
   "execution_count": 37,
   "id": "ab5d083c",
   "metadata": {},
   "outputs": [
    {
     "data": {
      "text/plain": [
       "Index(['generation', 'Pokemon', ' Number', ' Type1', ' Type2', ' Ability1',\n",
       "       ' Ability2', ' Ability3', ' HP', ' Attack', ' Defense', ' Sp. Atk',\n",
       "       ' Sp. Def', ' Speed', ' Sprite'],\n",
       "      dtype='object')"
      ]
     },
     "execution_count": 37,
     "metadata": {},
     "output_type": "execute_result"
    }
   ],
   "source": [
    "df.columns"
   ]
  },
  {
   "cell_type": "code",
   "execution_count": 38,
   "id": "0af19831",
   "metadata": {},
   "outputs": [],
   "source": [
    "average_speed = df[' Speed'].mean() "
   ]
  },
  {
   "cell_type": "code",
   "execution_count": 39,
   "id": "f0a6c568",
   "metadata": {},
   "outputs": [
    {
     "name": "stdout",
     "output_type": "stream",
     "text": [
      "la velocidad promedio de un Pokemon es 66.01593625498008\n"
     ]
    }
   ],
   "source": [
    "print(\"la velocidad promedio de un Pokemon es {}\".format(average_speed))"
   ]
  },
  {
   "cell_type": "code",
   "execution_count": 40,
   "id": "308698ce",
   "metadata": {},
   "outputs": [],
   "source": [
    "total_attack_points = df[' Attack'].sum()"
   ]
  },
  {
   "cell_type": "code",
   "execution_count": 41,
   "id": "883f20fc",
   "metadata": {},
   "outputs": [
    {
     "name": "stdout",
     "output_type": "stream",
     "text": [
      "El total de puntos de ataque de todos los pokemons es 17836\n"
     ]
    }
   ],
   "source": [
    "print(\"El total de puntos de ataque de todos los pokemons es {}\".format(total_attack_points))"
   ]
  },
  {
   "cell_type": "markdown",
   "id": "6ef5e2b8",
   "metadata": {},
   "source": [
    "## Agregaciones"
   ]
  },
  {
   "cell_type": "markdown",
   "id": "f5c3f7a8",
   "metadata": {},
   "source": [
    "Para nuestros casos de analítica debemos hacer agregaciones para sacar conclusiones relevantes de los datos, para eso usamos la función <a href=https://pandas.pydata.org/docs/reference/api/pandas.DataFrame.groupby.html> pd.DataFrame.groupby</a> para realizar estos análsis, ejemplo:\n",
    "\n",
    "* Encontrar las ventas netas por producto, por tienda o por ciudad\n",
    "* Encontar la cantidad de veces que una persona se registró en el sistema\n",
    "* Encontrar el promedio de goles por partido de un equipo de fútbol\n",
    "\n",
    "Y asi miles de ejemplos más..."
   ]
  },
  {
   "cell_type": "markdown",
   "id": "66e10f1a",
   "metadata": {},
   "source": [
    "#### ¿ Cuántos Pokemons hay en cada generación ?"
   ]
  },
  {
   "cell_type": "code",
   "execution_count": 20,
   "id": "62ba4378",
   "metadata": {},
   "outputs": [
    {
     "data": {
      "text/plain": [
       "generation\n",
       "gen1    151\n",
       "gen2    100\n",
       "dtype: int64"
      ]
     },
     "execution_count": 20,
     "metadata": {},
     "output_type": "execute_result"
    }
   ],
   "source": [
    "df.groupby(\"generation\").size()"
   ]
  },
  {
   "cell_type": "markdown",
   "id": "73b87608",
   "metadata": {},
   "source": [
    "#### ¿Cuáles son los tipos de Pokemon con mayor velocidad promedio?"
   ]
  },
  {
   "cell_type": "code",
   "execution_count": 51,
   "id": "f8fbbeca",
   "metadata": {},
   "outputs": [
    {
     "data": {
      "text/plain": [
       " Type1\n",
       "BUG         54.545455\n",
       "DARK        86.200000\n",
       "DRAGON      66.666667\n",
       "ELECTRIC    87.000000\n",
       "FAIRY       35.000000\n",
       "FIGHTING    63.111111\n",
       "FIRE        78.800000\n",
       "GHOST       92.500000\n",
       "GRASS       55.238095\n",
       "GROUND      58.181818\n",
       "ICE         70.000000\n",
       "NORMAL      66.621622\n",
       "POISON      63.533333\n",
       "PSYCHIC     87.333333\n",
       "ROCK        54.461538\n",
       "STEEL       50.000000\n",
       "WATER       63.456522\n",
       "Name:  Speed, dtype: float64"
      ]
     },
     "execution_count": 51,
     "metadata": {},
     "output_type": "execute_result"
    }
   ],
   "source": [
    "df.groupby(\" Type1\").mean()[\" Speed\"]"
   ]
  },
  {
   "cell_type": "markdown",
   "id": "ba559613",
   "metadata": {},
   "source": [
    "#### ¿ Cuál tipo de Pokemon tiene más defensa en promedio ?"
   ]
  },
  {
   "cell_type": "code",
   "execution_count": null,
   "id": "2ea3ff93",
   "metadata": {},
   "outputs": [],
   "source": []
  },
  {
   "cell_type": "markdown",
   "id": "530873f6",
   "metadata": {},
   "source": [
    "#### ¿ Cual tipo de habilidad tiene mejor Defensa promedio 'Overgrow', 'Sand Stream' o 'Natural Cure' ?"
   ]
  },
  {
   "cell_type": "code",
   "execution_count": null,
   "id": "4a5d3533",
   "metadata": {},
   "outputs": [],
   "source": []
  }
 ],
 "metadata": {
  "kernelspec": {
   "display_name": "Python 3",
   "language": "python",
   "name": "python3"
  },
  "language_info": {
   "codemirror_mode": {
    "name": "ipython",
    "version": 3
   },
   "file_extension": ".py",
   "mimetype": "text/x-python",
   "name": "python",
   "nbconvert_exporter": "python",
   "pygments_lexer": "ipython3",
   "version": "3.9.5"
  }
 },
 "nbformat": 4,
 "nbformat_minor": 5
}
