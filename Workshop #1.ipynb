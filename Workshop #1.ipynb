{
 "cells": [
  {
   "cell_type": "code",
   "execution_count": 1,
   "id": "88926dc1",
   "metadata": {},
   "outputs": [],
   "source": [
    "import pandas as pd\n",
    "import numpy as np"
   ]
  },
  {
   "cell_type": "markdown",
   "id": "1cedc4ca",
   "metadata": {},
   "source": [
    "## Basic python operations"
   ]
  },
  {
   "cell_type": "markdown",
   "id": "5cbcef74",
   "metadata": {},
   "source": [
    "* https://www.hackerrank.com/challenges/py-if-else/problem?h_r=internal-search"
   ]
  },
  {
   "cell_type": "markdown",
   "id": "4e2a5da1",
   "metadata": {},
   "source": [
    "* https://www.hackerrank.com/challenges/python-arithmetic-operators/problem"
   ]
  },
  {
   "cell_type": "markdown",
   "id": "4c17747d",
   "metadata": {},
   "source": [
    "* https://www.hackerrank.com/challenges/python-division/problem"
   ]
  },
  {
   "cell_type": "markdown",
   "id": "fce38653",
   "metadata": {},
   "source": [
    "* https://www.hackerrank.com/challenges/python-loops/problem"
   ]
  },
  {
   "cell_type": "markdown",
   "id": "bebe62c6",
   "metadata": {},
   "source": [
    "## Basic python structures"
   ]
  },
  {
   "cell_type": "markdown",
   "id": "411c2ebf",
   "metadata": {},
   "source": [
    "* https://www.hackerrank.com/challenges/python-lists/problem"
   ]
  },
  {
   "cell_type": "markdown",
   "id": "6eeea4d0",
   "metadata": {},
   "source": [
    "* https://www.hackerrank.com/challenges/find-second-maximum-number-in-a-list/problem"
   ]
  },
  {
   "cell_type": "markdown",
   "id": "bf4d2376",
   "metadata": {},
   "source": [
    "* https://www.hackerrank.com/challenges/nested-list/problem"
   ]
  },
  {
   "cell_type": "markdown",
   "id": "c2ae091f",
   "metadata": {},
   "source": [
    "## Numpy"
   ]
  },
  {
   "cell_type": "markdown",
   "id": "3a78cc26",
   "metadata": {},
   "source": [
    "* Create a null vector of size 10 (★☆☆)"
   ]
  },
  {
   "cell_type": "code",
   "execution_count": null,
   "id": "b2a32025",
   "metadata": {},
   "outputs": [],
   "source": []
  },
  {
   "cell_type": "markdown",
   "id": "1c00fa44",
   "metadata": {},
   "source": [
    "* Reverse a vector (first element becomes last) (★☆☆)"
   ]
  },
  {
   "cell_type": "code",
   "execution_count": null,
   "id": "3561ca9f",
   "metadata": {},
   "outputs": [],
   "source": []
  },
  {
   "cell_type": "markdown",
   "id": "5f09a28a",
   "metadata": {},
   "source": [
    "* Find indices of non-zero elements from [1,2,0,0,4,0] (★☆☆)"
   ]
  },
  {
   "cell_type": "code",
   "execution_count": null,
   "id": "36ee5a17",
   "metadata": {},
   "outputs": [],
   "source": []
  },
  {
   "cell_type": "markdown",
   "id": "61b2d89b",
   "metadata": {},
   "source": [
    "* Create a 3x3 identity matrix (★☆☆)"
   ]
  },
  {
   "cell_type": "code",
   "execution_count": null,
   "id": "c9997739",
   "metadata": {},
   "outputs": [],
   "source": []
  },
  {
   "cell_type": "markdown",
   "id": "6a465823",
   "metadata": {},
   "source": [
    "* Create a 10x10 array with random values and find the minimum and maximum values (★☆☆)"
   ]
  },
  {
   "cell_type": "code",
   "execution_count": null,
   "id": "8fff5657",
   "metadata": {},
   "outputs": [],
   "source": []
  },
  {
   "cell_type": "markdown",
   "id": "855b6698",
   "metadata": {},
   "source": [
    "## Pandas"
   ]
  },
  {
   "cell_type": "markdown",
   "id": "fc072f8a",
   "metadata": {},
   "source": [
    "Consider the following Python dictionary data and Python list labels"
   ]
  },
  {
   "cell_type": "code",
   "execution_count": 4,
   "id": "9726d8bb",
   "metadata": {},
   "outputs": [],
   "source": [
    "data = {'animal': ['cat', 'cat', 'snake', 'dog', 'dog', 'cat', 'snake', 'cat', 'dog', 'dog'],\n",
    "        'age': [2.5, 3, 0.5, np.nan, 5, 2, 4.5, np.nan, 7, 3],\n",
    "        'visits': [1, 3, 2, 3, 2, 3, 1, 1, 2, 1],\n",
    "        'priority': ['yes', 'yes', 'no', 'yes', 'no', 'no', 'no', 'yes', 'no', 'no']}\n",
    "\n",
    "labels = ['a', 'b', 'c', 'd', 'e', 'f', 'g', 'h', 'i', 'j']"
   ]
  },
  {
   "cell_type": "markdown",
   "id": "322440c8",
   "metadata": {},
   "source": [
    "* Create a DataFrame df from this dictionary data which has the index labels"
   ]
  },
  {
   "cell_type": "code",
   "execution_count": null,
   "id": "5b562000",
   "metadata": {},
   "outputs": [],
   "source": []
  },
  {
   "cell_type": "markdown",
   "id": "6a98124b",
   "metadata": {},
   "source": [
    "* Display a summary of the basic information about this DataFrame and its data (hint: there is a single method that can be called on the DataFrame 'describe')"
   ]
  },
  {
   "cell_type": "code",
   "execution_count": null,
   "id": "bef1b4d7",
   "metadata": {},
   "outputs": [],
   "source": []
  },
  {
   "cell_type": "markdown",
   "id": "9c101946",
   "metadata": {},
   "source": [
    "* Return the first 3 rows of the DataFrame df"
   ]
  },
  {
   "cell_type": "code",
   "execution_count": null,
   "id": "88d5c97c",
   "metadata": {},
   "outputs": [],
   "source": []
  },
  {
   "cell_type": "markdown",
   "id": "4822c294",
   "metadata": {},
   "source": [
    "* Select just the 'animal' and 'age' columns from the DataFrame df"
   ]
  },
  {
   "cell_type": "code",
   "execution_count": null,
   "id": "fbced56d",
   "metadata": {},
   "outputs": [],
   "source": []
  },
  {
   "cell_type": "markdown",
   "id": "c648100c",
   "metadata": {},
   "source": [
    "* Select the rows where the age is missing, i.e. it is NaN."
   ]
  },
  {
   "cell_type": "code",
   "execution_count": null,
   "id": "e914d012",
   "metadata": {},
   "outputs": [],
   "source": []
  },
  {
   "cell_type": "markdown",
   "id": "2ae99f60",
   "metadata": {},
   "source": [
    "* Calculate the sum of all visits in df (i.e. find the total number of visits)"
   ]
  },
  {
   "cell_type": "code",
   "execution_count": null,
   "id": "24682ef9",
   "metadata": {},
   "outputs": [],
   "source": []
  }
 ],
 "metadata": {
  "kernelspec": {
   "display_name": "Python 3",
   "language": "python",
   "name": "python3"
  },
  "language_info": {
   "codemirror_mode": {
    "name": "ipython",
    "version": 3
   },
   "file_extension": ".py",
   "mimetype": "text/x-python",
   "name": "python",
   "nbconvert_exporter": "python",
   "pygments_lexer": "ipython3",
   "version": "3.9.5"
  }
 },
 "nbformat": 4,
 "nbformat_minor": 5
}
