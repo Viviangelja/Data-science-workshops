{
 "cells": [
  {
   "cell_type": "markdown",
   "id": "6cb4e40a",
   "metadata": {},
   "source": [
    "# Ventas Centro Comercial"
   ]
  },
  {
   "cell_type": "markdown",
   "id": "3e5b6c14",
   "metadata": {},
   "source": [
    "La base de datos Centro Comercial es un caso clásico de registro de facturas de compra por parte de los puntos de atención. Allí se solicitan los datos de los clientes compradores a partir de facturas superiores a 50 mil pesos. El objetivo es poder caracterizar los clientes e identificar los establecimientos de mayor y menor desempeño en función de la afluencia de clientes que visitan sus tiendas. Se espera mediante un análisis descriptivo y exploratorio proponer una segmentación de almacenes y clientes y proponer estrategias de fidelización."
   ]
  },
  {
   "cell_type": "markdown",
   "id": "8bfc412e",
   "metadata": {},
   "source": [
    "### Importar librerías"
   ]
  },
  {
   "cell_type": "code",
   "execution_count": 103,
   "id": "f89e94b8",
   "metadata": {},
   "outputs": [],
   "source": [
    "import pandas as pd\n",
    "import seaborn as sns\n",
    "import pandas\n",
    "import matplotlib.pyplot as plt\n",
    "\n",
    "sns.set_style(\"whitegrid\")"
   ]
  },
  {
   "cell_type": "markdown",
   "id": "c76041c9",
   "metadata": {},
   "source": [
    "### Leer los datos"
   ]
  },
  {
   "cell_type": "code",
   "execution_count": 5,
   "id": "9a6c8d4d",
   "metadata": {},
   "outputs": [],
   "source": [
    "df = pd.read_excel('Caso 04 - Ventas en Centro Comercial.xlsx', sheet_name='bd')"
   ]
  },
  {
   "cell_type": "code",
   "execution_count": 6,
   "id": "856e4007",
   "metadata": {},
   "outputs": [
    {
     "data": {
      "text/html": [
       "<div>\n",
       "<style scoped>\n",
       "    .dataframe tbody tr th:only-of-type {\n",
       "        vertical-align: middle;\n",
       "    }\n",
       "\n",
       "    .dataframe tbody tr th {\n",
       "        vertical-align: top;\n",
       "    }\n",
       "\n",
       "    .dataframe thead th {\n",
       "        text-align: right;\n",
       "    }\n",
       "</style>\n",
       "<table border=\"1\" class=\"dataframe\">\n",
       "  <thead>\n",
       "    <tr style=\"text-align: right;\">\n",
       "      <th></th>\n",
       "      <th>Cedula</th>\n",
       "      <th>Nombre Completo</th>\n",
       "      <th>nCodigoTransaccion</th>\n",
       "      <th>nCodigoConsumidor</th>\n",
       "      <th>Almacen</th>\n",
       "      <th>Categoria</th>\n",
       "      <th>nVenta</th>\n",
       "      <th>nItem</th>\n",
       "      <th>sEmail</th>\n",
       "      <th>Ciudad</th>\n",
       "      <th>...</th>\n",
       "      <th>EDAD</th>\n",
       "      <th>RECENCIA DIAS</th>\n",
       "      <th>Dirección</th>\n",
       "      <th>MailValido</th>\n",
       "      <th>CelValid</th>\n",
       "      <th>TelefonoMovil</th>\n",
       "      <th>TelOfcValid</th>\n",
       "      <th>TelefonoOficina</th>\n",
       "      <th>TelCasaValid</th>\n",
       "      <th>TelefonoCasa</th>\n",
       "    </tr>\n",
       "  </thead>\n",
       "  <tbody>\n",
       "    <tr>\n",
       "      <th>0</th>\n",
       "      <td>1</td>\n",
       "      <td>NOMBRE APELLIDO 1</td>\n",
       "      <td>29344936</td>\n",
       "      <td>6700170</td>\n",
       "      <td>Escape</td>\n",
       "      <td>Moda Masculina y Femenina</td>\n",
       "      <td>203000</td>\n",
       "      <td>1</td>\n",
       "      <td>NaN</td>\n",
       "      <td>SABANETA</td>\n",
       "      <td>...</td>\n",
       "      <td>19</td>\n",
       "      <td>15</td>\n",
       "      <td>NaN</td>\n",
       "      <td>No</td>\n",
       "      <td>Si</td>\n",
       "      <td>NaN</td>\n",
       "      <td>No</td>\n",
       "      <td>NaN</td>\n",
       "      <td>Si</td>\n",
       "      <td>NaN</td>\n",
       "    </tr>\n",
       "    <tr>\n",
       "      <th>1</th>\n",
       "      <td>2</td>\n",
       "      <td>NOMBRE APELLIDO 2</td>\n",
       "      <td>31924314</td>\n",
       "      <td>2357373</td>\n",
       "      <td>Bon Bonite</td>\n",
       "      <td>Calzado y Bolsos</td>\n",
       "      <td>284000</td>\n",
       "      <td>1</td>\n",
       "      <td>NaN</td>\n",
       "      <td>MEDELLIN</td>\n",
       "      <td>...</td>\n",
       "      <td>40</td>\n",
       "      <td>3</td>\n",
       "      <td>NaN</td>\n",
       "      <td>No</td>\n",
       "      <td>Si</td>\n",
       "      <td>NaN</td>\n",
       "      <td>No</td>\n",
       "      <td>NaN</td>\n",
       "      <td>Si</td>\n",
       "      <td>NaN</td>\n",
       "    </tr>\n",
       "    <tr>\n",
       "      <th>2</th>\n",
       "      <td>3</td>\n",
       "      <td>NOMBRE APELLIDO 3</td>\n",
       "      <td>31924315</td>\n",
       "      <td>2357373</td>\n",
       "      <td>Velez</td>\n",
       "      <td>Calzado y Bolsos</td>\n",
       "      <td>324000</td>\n",
       "      <td>1</td>\n",
       "      <td>NaN</td>\n",
       "      <td>MEDELLIN</td>\n",
       "      <td>...</td>\n",
       "      <td>40</td>\n",
       "      <td>3</td>\n",
       "      <td>NaN</td>\n",
       "      <td>No</td>\n",
       "      <td>Si</td>\n",
       "      <td>NaN</td>\n",
       "      <td>No</td>\n",
       "      <td>NaN</td>\n",
       "      <td>Si</td>\n",
       "      <td>NaN</td>\n",
       "    </tr>\n",
       "  </tbody>\n",
       "</table>\n",
       "<p>3 rows × 39 columns</p>\n",
       "</div>"
      ],
      "text/plain": [
       "   Cedula    Nombre Completo  nCodigoTransaccion  nCodigoConsumidor  \\\n",
       "0       1  NOMBRE APELLIDO 1            29344936            6700170   \n",
       "1       2  NOMBRE APELLIDO 2            31924314            2357373   \n",
       "2       3  NOMBRE APELLIDO 3            31924315            2357373   \n",
       "\n",
       "      Almacen                  Categoria  nVenta  nItem  sEmail    Ciudad  \\\n",
       "0      Escape  Moda Masculina y Femenina  203000      1     NaN  SABANETA   \n",
       "1  Bon Bonite           Calzado y Bolsos  284000      1     NaN  MEDELLIN   \n",
       "2       Velez           Calzado y Bolsos  324000      1     NaN  MEDELLIN   \n",
       "\n",
       "   ... EDAD RECENCIA DIAS  Dirección MailValido  CelValid  TelefonoMovil  \\\n",
       "0  ...   19            15        NaN         No        Si            NaN   \n",
       "1  ...   40             3        NaN         No        Si            NaN   \n",
       "2  ...   40             3        NaN         No        Si            NaN   \n",
       "\n",
       "  TelOfcValid TelefonoOficina TelCasaValid TelefonoCasa  \n",
       "0          No             NaN           Si          NaN  \n",
       "1          No             NaN           Si          NaN  \n",
       "2          No             NaN           Si          NaN  \n",
       "\n",
       "[3 rows x 39 columns]"
      ]
     },
     "execution_count": 6,
     "metadata": {},
     "output_type": "execute_result"
    }
   ],
   "source": [
    "df.head(3)"
   ]
  },
  {
   "cell_type": "code",
   "execution_count": 7,
   "id": "b31ee15d",
   "metadata": {},
   "outputs": [
    {
     "data": {
      "text/html": [
       "<div>\n",
       "<style scoped>\n",
       "    .dataframe tbody tr th:only-of-type {\n",
       "        vertical-align: middle;\n",
       "    }\n",
       "\n",
       "    .dataframe tbody tr th {\n",
       "        vertical-align: top;\n",
       "    }\n",
       "\n",
       "    .dataframe thead th {\n",
       "        text-align: right;\n",
       "    }\n",
       "</style>\n",
       "<table border=\"1\" class=\"dataframe\">\n",
       "  <thead>\n",
       "    <tr style=\"text-align: right;\">\n",
       "      <th></th>\n",
       "      <th>Cedula</th>\n",
       "      <th>Nombre Completo</th>\n",
       "      <th>nCodigoTransaccion</th>\n",
       "      <th>nCodigoConsumidor</th>\n",
       "      <th>Almacen</th>\n",
       "      <th>Categoria</th>\n",
       "      <th>nVenta</th>\n",
       "      <th>nItem</th>\n",
       "      <th>sEmail</th>\n",
       "      <th>Ciudad</th>\n",
       "      <th>...</th>\n",
       "      <th>EDAD</th>\n",
       "      <th>RECENCIA DIAS</th>\n",
       "      <th>Dirección</th>\n",
       "      <th>MailValido</th>\n",
       "      <th>CelValid</th>\n",
       "      <th>TelefonoMovil</th>\n",
       "      <th>TelOfcValid</th>\n",
       "      <th>TelefonoOficina</th>\n",
       "      <th>TelCasaValid</th>\n",
       "      <th>TelefonoCasa</th>\n",
       "    </tr>\n",
       "  </thead>\n",
       "  <tbody>\n",
       "    <tr>\n",
       "      <th>112949</th>\n",
       "      <td>112950</td>\n",
       "      <td>NOMBRE APELLIDO 112950</td>\n",
       "      <td>26746717</td>\n",
       "      <td>6355246</td>\n",
       "      <td>Saldos De Exportación</td>\n",
       "      <td>Moda Masculina y Femenina</td>\n",
       "      <td>5000</td>\n",
       "      <td>1</td>\n",
       "      <td>NaN</td>\n",
       "      <td>MEDELLIN</td>\n",
       "      <td>...</td>\n",
       "      <td>13</td>\n",
       "      <td>23</td>\n",
       "      <td>NaN</td>\n",
       "      <td>No</td>\n",
       "      <td>Si</td>\n",
       "      <td>NaN</td>\n",
       "      <td>Si</td>\n",
       "      <td>NaN</td>\n",
       "      <td>Si</td>\n",
       "      <td>NaN</td>\n",
       "    </tr>\n",
       "    <tr>\n",
       "      <th>112950</th>\n",
       "      <td>112951</td>\n",
       "      <td>NOMBRE APELLIDO 112951</td>\n",
       "      <td>31386254</td>\n",
       "      <td>6355246</td>\n",
       "      <td>Calzado Goysa</td>\n",
       "      <td>Calzado y Bolsos</td>\n",
       "      <td>60000</td>\n",
       "      <td>1</td>\n",
       "      <td>NaN</td>\n",
       "      <td>MEDELLIN</td>\n",
       "      <td>...</td>\n",
       "      <td>13</td>\n",
       "      <td>9</td>\n",
       "      <td>NaN</td>\n",
       "      <td>No</td>\n",
       "      <td>Si</td>\n",
       "      <td>NaN</td>\n",
       "      <td>Si</td>\n",
       "      <td>NaN</td>\n",
       "      <td>Si</td>\n",
       "      <td>NaN</td>\n",
       "    </tr>\n",
       "    <tr>\n",
       "      <th>112951</th>\n",
       "      <td>112952</td>\n",
       "      <td>NOMBRE APELLIDO 112952</td>\n",
       "      <td>31577681</td>\n",
       "      <td>7060684</td>\n",
       "      <td>Monas Y Morenas</td>\n",
       "      <td>Moda Femenina</td>\n",
       "      <td>50000</td>\n",
       "      <td>1</td>\n",
       "      <td>NaN</td>\n",
       "      <td>MEDELLIN</td>\n",
       "      <td>...</td>\n",
       "      <td>22</td>\n",
       "      <td>7</td>\n",
       "      <td>NaN</td>\n",
       "      <td>Si</td>\n",
       "      <td>Si</td>\n",
       "      <td>NaN</td>\n",
       "      <td>No</td>\n",
       "      <td>NaN</td>\n",
       "      <td>Si</td>\n",
       "      <td>NaN</td>\n",
       "    </tr>\n",
       "  </tbody>\n",
       "</table>\n",
       "<p>3 rows × 39 columns</p>\n",
       "</div>"
      ],
      "text/plain": [
       "        Cedula         Nombre Completo  nCodigoTransaccion  nCodigoConsumidor  \\\n",
       "112949  112950  NOMBRE APELLIDO 112950            26746717            6355246   \n",
       "112950  112951  NOMBRE APELLIDO 112951            31386254            6355246   \n",
       "112951  112952  NOMBRE APELLIDO 112952            31577681            7060684   \n",
       "\n",
       "                      Almacen                  Categoria  nVenta  nItem  \\\n",
       "112949  Saldos De Exportación  Moda Masculina y Femenina    5000      1   \n",
       "112950          Calzado Goysa           Calzado y Bolsos   60000      1   \n",
       "112951        Monas Y Morenas              Moda Femenina   50000      1   \n",
       "\n",
       "        sEmail    Ciudad  ... EDAD RECENCIA DIAS  Dirección MailValido  \\\n",
       "112949     NaN  MEDELLIN  ...   13            23        NaN         No   \n",
       "112950     NaN  MEDELLIN  ...   13             9        NaN         No   \n",
       "112951     NaN  MEDELLIN  ...   22             7        NaN         Si   \n",
       "\n",
       "        CelValid  TelefonoMovil TelOfcValid TelefonoOficina TelCasaValid  \\\n",
       "112949        Si            NaN          Si             NaN           Si   \n",
       "112950        Si            NaN          Si             NaN           Si   \n",
       "112951        Si            NaN          No             NaN           Si   \n",
       "\n",
       "       TelefonoCasa  \n",
       "112949          NaN  \n",
       "112950          NaN  \n",
       "112951          NaN  \n",
       "\n",
       "[3 rows x 39 columns]"
      ]
     },
     "execution_count": 7,
     "metadata": {},
     "output_type": "execute_result"
    }
   ],
   "source": [
    "df.tail(3)"
   ]
  },
  {
   "cell_type": "code",
   "execution_count": 9,
   "id": "3c9487b4",
   "metadata": {},
   "outputs": [
    {
     "name": "stdout",
     "output_type": "stream",
     "text": [
      "<class 'pandas.core.frame.DataFrame'>\n",
      "RangeIndex: 112952 entries, 0 to 112951\n",
      "Data columns (total 39 columns):\n",
      " #   Column              Non-Null Count   Dtype  \n",
      "---  ------              --------------   -----  \n",
      " 0   Cedula              112952 non-null  int64  \n",
      " 1   Nombre Completo     112952 non-null  object \n",
      " 2   nCodigoTransaccion  112952 non-null  int64  \n",
      " 3   nCodigoConsumidor   112952 non-null  int64  \n",
      " 4   Almacen             112952 non-null  object \n",
      " 5   Categoria           112952 non-null  object \n",
      " 6   nVenta              112952 non-null  int64  \n",
      " 7   nItem               112952 non-null  int64  \n",
      " 8   sEmail              0 non-null       float64\n",
      " 9   Ciudad              112952 non-null  object \n",
      " 10  nCodigoGenero       112952 non-null  object \n",
      " 11  nCodigoEstadoCivil  112952 non-null  object \n",
      " 12  ANO                 112952 non-null  int64  \n",
      " 13  MES                 112952 non-null  object \n",
      " 14  MES 2               112952 non-null  int64  \n",
      " 15  DIA                 112952 non-null  int64  \n",
      " 16  FECHA UNI           112952 non-null  object \n",
      " 17  DIASEMANA           112952 non-null  object \n",
      " 18  ANOMES              112952 non-null  object \n",
      " 19  ANOMESDIA           112952 non-null  object \n",
      " 20  SEMESTRE            112952 non-null  object \n",
      " 21  VentasMM            112952 non-null  float64\n",
      " 22  SEMESTREDIG         112952 non-null  object \n",
      " 23  ANONCTO             112952 non-null  int64  \n",
      " 24  MESNCTO             112952 non-null  object \n",
      " 25  DIANCTO             112952 non-null  int64  \n",
      " 26  DIASEMANANCTO       112952 non-null  object \n",
      " 27  ANOMESNCTO          112952 non-null  object \n",
      " 28  ANOMESDIANCTO       112952 non-null  object \n",
      " 29  EDAD                112952 non-null  int64  \n",
      " 30  RECENCIA DIAS       112952 non-null  int64  \n",
      " 31  Dirección           0 non-null       float64\n",
      " 32  MailValido          112952 non-null  object \n",
      " 33  CelValid            112952 non-null  object \n",
      " 34  TelefonoMovil       0 non-null       float64\n",
      " 35  TelOfcValid         112952 non-null  object \n",
      " 36  TelefonoOficina     0 non-null       float64\n",
      " 37  TelCasaValid        112952 non-null  object \n",
      " 38  TelefonoCasa        0 non-null       float64\n",
      "dtypes: float64(6), int64(12), object(21)\n",
      "memory usage: 33.6+ MB\n"
     ]
    }
   ],
   "source": [
    "df.info()"
   ]
  },
  {
   "cell_type": "code",
   "execution_count": 10,
   "id": "50334f3a",
   "metadata": {},
   "outputs": [],
   "source": [
    "df['nCodigoConsumidor'] = df['nCodigoConsumidor'].astype(str)"
   ]
  },
  {
   "cell_type": "code",
   "execution_count": 11,
   "id": "6eba4085",
   "metadata": {},
   "outputs": [
    {
     "name": "stdout",
     "output_type": "stream",
     "text": [
      "<class 'pandas.core.frame.DataFrame'>\n",
      "RangeIndex: 112952 entries, 0 to 112951\n",
      "Data columns (total 39 columns):\n",
      " #   Column              Non-Null Count   Dtype  \n",
      "---  ------              --------------   -----  \n",
      " 0   Cedula              112952 non-null  int64  \n",
      " 1   Nombre Completo     112952 non-null  object \n",
      " 2   nCodigoTransaccion  112952 non-null  int64  \n",
      " 3   nCodigoConsumidor   112952 non-null  object \n",
      " 4   Almacen             112952 non-null  object \n",
      " 5   Categoria           112952 non-null  object \n",
      " 6   nVenta              112952 non-null  int64  \n",
      " 7   nItem               112952 non-null  int64  \n",
      " 8   sEmail              0 non-null       float64\n",
      " 9   Ciudad              112952 non-null  object \n",
      " 10  nCodigoGenero       112952 non-null  object \n",
      " 11  nCodigoEstadoCivil  112952 non-null  object \n",
      " 12  ANO                 112952 non-null  int64  \n",
      " 13  MES                 112952 non-null  object \n",
      " 14  MES 2               112952 non-null  int64  \n",
      " 15  DIA                 112952 non-null  int64  \n",
      " 16  FECHA UNI           112952 non-null  object \n",
      " 17  DIASEMANA           112952 non-null  object \n",
      " 18  ANOMES              112952 non-null  object \n",
      " 19  ANOMESDIA           112952 non-null  object \n",
      " 20  SEMESTRE            112952 non-null  object \n",
      " 21  VentasMM            112952 non-null  float64\n",
      " 22  SEMESTREDIG         112952 non-null  object \n",
      " 23  ANONCTO             112952 non-null  int64  \n",
      " 24  MESNCTO             112952 non-null  object \n",
      " 25  DIANCTO             112952 non-null  int64  \n",
      " 26  DIASEMANANCTO       112952 non-null  object \n",
      " 27  ANOMESNCTO          112952 non-null  object \n",
      " 28  ANOMESDIANCTO       112952 non-null  object \n",
      " 29  EDAD                112952 non-null  int64  \n",
      " 30  RECENCIA DIAS       112952 non-null  int64  \n",
      " 31  Dirección           0 non-null       float64\n",
      " 32  MailValido          112952 non-null  object \n",
      " 33  CelValid            112952 non-null  object \n",
      " 34  TelefonoMovil       0 non-null       float64\n",
      " 35  TelOfcValid         112952 non-null  object \n",
      " 36  TelefonoOficina     0 non-null       float64\n",
      " 37  TelCasaValid        112952 non-null  object \n",
      " 38  TelefonoCasa        0 non-null       float64\n",
      "dtypes: float64(6), int64(11), object(22)\n",
      "memory usage: 33.6+ MB\n"
     ]
    }
   ],
   "source": [
    "df.info()"
   ]
  },
  {
   "cell_type": "markdown",
   "id": "0ac3d6b7",
   "metadata": {},
   "source": [
    "### Realizar el histograma del valor de la factura 'nVenta'"
   ]
  },
  {
   "cell_type": "code",
   "execution_count": 12,
   "id": "ce479ae7",
   "metadata": {},
   "outputs": [
    {
     "data": {
      "text/plain": [
       "array([[<AxesSubplot:title={'center':'nVenta'}>]], dtype=object)"
      ]
     },
     "execution_count": 12,
     "metadata": {},
     "output_type": "execute_result"
    },
    {
     "data": {
      "image/png": "[encoded data removed]",
      "text/plain": [
       "<Figure size 432x288 with 1 Axes>"
      ]
     },
     "metadata": {},
     "output_type": "display_data"
    }
   ],
   "source": [
    "df.hist(column='nVenta')"
   ]
  },
  {
   "cell_type": "code",
   "execution_count": 9,
   "id": "6711648f",
   "metadata": {},
   "outputs": [],
   "source": [
    "mask = df['nVenta'] < 1000000\n",
    "df_2 = df[mask]"
   ]
  },
  {
   "cell_type": "code",
   "execution_count": 10,
   "id": "60b0c54a",
   "metadata": {},
   "outputs": [
    {
     "data": {
      "text/plain": [
       "<AxesSubplot:>"
      ]
     },
     "execution_count": 10,
     "metadata": {},
     "output_type": "execute_result"
    },
    {
     "data": {
      "image/png": "[encoded data removed]",
      "text/plain": [
       "<Figure size 432x288 with 1 Axes>"
      ]
     },
     "metadata": {
      "needs_background": "light"
     },
     "output_type": "display_data"
    }
   ],
   "source": [
    "df_2['nVenta'].hist(bins=40)"
   ]
  },
  {
   "cell_type": "code",
   "execution_count": 28,
   "id": "c6f09c51",
   "metadata": {},
   "outputs": [
    {
     "data": {
      "text/plain": [
       "array([[<AxesSubplot:title={'center':'nVenta'}>]], dtype=object)"
      ]
     },
     "execution_count": 28,
     "metadata": {},
     "output_type": "execute_result"
    },
    {
     "data": {
      "image/png": "[encoded data removed]",
      "text/plain": [
       "<Figure size 432x288 with 1 Axes>"
      ]
     },
     "metadata": {
      "needs_background": "light"
     },
     "output_type": "display_data"
    }
   ],
   "source": [
    "df_2.hist(column='nVenta')"
   ]
  },
  {
   "cell_type": "markdown",
   "id": "ab799409",
   "metadata": {},
   "source": [
    "### Comportamiento registro de facturas en el tiempo"
   ]
  },
  {
   "cell_type": "markdown",
   "id": "f3e11b1c",
   "metadata": {},
   "source": [
    "Crear una columna con la fecha y verificar que sea tipo 'datetime'"
   ]
  },
  {
   "cell_type": "code",
   "execution_count": 14,
   "id": "9749a60c",
   "metadata": {},
   "outputs": [],
   "source": [
    "df['fecha'] = pd.to_datetime(df['FECHA UNI'])"
   ]
  },
  {
   "cell_type": "markdown",
   "id": "6cf2c223",
   "metadata": {},
   "source": [
    "Realizar un grafico donde se muestre el comportamiento del valor de las facturas registradas a través del año 2010"
   ]
  },
  {
   "cell_type": "code",
   "execution_count": 57,
   "id": "c09c5bb8",
   "metadata": {},
   "outputs": [
    {
     "data": {
      "text/html": [
       "<div>\n",
       "<style scoped>\n",
       "    .dataframe tbody tr th:only-of-type {\n",
       "        vertical-align: middle;\n",
       "    }\n",
       "\n",
       "    .dataframe tbody tr th {\n",
       "        vertical-align: top;\n",
       "    }\n",
       "\n",
       "    .dataframe thead th {\n",
       "        text-align: right;\n",
       "    }\n",
       "</style>\n",
       "<table border=\"1\" class=\"dataframe\">\n",
       "  <thead>\n",
       "    <tr style=\"text-align: right;\">\n",
       "      <th></th>\n",
       "      <th>MES 2</th>\n",
       "      <th>nVenta</th>\n",
       "    </tr>\n",
       "  </thead>\n",
       "  <tbody>\n",
       "    <tr>\n",
       "      <th>0</th>\n",
       "      <td>1</td>\n",
       "      <td>479985505</td>\n",
       "    </tr>\n",
       "    <tr>\n",
       "      <th>1</th>\n",
       "      <td>2</td>\n",
       "      <td>427942065</td>\n",
       "    </tr>\n",
       "    <tr>\n",
       "      <th>2</th>\n",
       "      <td>3</td>\n",
       "      <td>422973800</td>\n",
       "    </tr>\n",
       "    <tr>\n",
       "      <th>3</th>\n",
       "      <td>4</td>\n",
       "      <td>327668650</td>\n",
       "    </tr>\n",
       "    <tr>\n",
       "      <th>4</th>\n",
       "      <td>5</td>\n",
       "      <td>353490400</td>\n",
       "    </tr>\n",
       "    <tr>\n",
       "      <th>5</th>\n",
       "      <td>6</td>\n",
       "      <td>410650400</td>\n",
       "    </tr>\n",
       "    <tr>\n",
       "      <th>6</th>\n",
       "      <td>7</td>\n",
       "      <td>406820707</td>\n",
       "    </tr>\n",
       "    <tr>\n",
       "      <th>7</th>\n",
       "      <td>8</td>\n",
       "      <td>596239609</td>\n",
       "    </tr>\n",
       "    <tr>\n",
       "      <th>8</th>\n",
       "      <td>9</td>\n",
       "      <td>551910963</td>\n",
       "    </tr>\n",
       "    <tr>\n",
       "      <th>9</th>\n",
       "      <td>10</td>\n",
       "      <td>443889630</td>\n",
       "    </tr>\n",
       "    <tr>\n",
       "      <th>10</th>\n",
       "      <td>11</td>\n",
       "      <td>768909200</td>\n",
       "    </tr>\n",
       "    <tr>\n",
       "      <th>11</th>\n",
       "      <td>12</td>\n",
       "      <td>1837472430</td>\n",
       "    </tr>\n",
       "  </tbody>\n",
       "</table>\n",
       "</div>"
      ],
      "text/plain": [
       "    MES 2      nVenta\n",
       "0       1   479985505\n",
       "1       2   427942065\n",
       "2       3   422973800\n",
       "3       4   327668650\n",
       "4       5   353490400\n",
       "5       6   410650400\n",
       "6       7   406820707\n",
       "7       8   596239609\n",
       "8       9   551910963\n",
       "9      10   443889630\n",
       "10     11   768909200\n",
       "11     12  1837472430"
      ]
     },
     "execution_count": 57,
     "metadata": {},
     "output_type": "execute_result"
    }
   ],
   "source": [
    "facturas_mes_2010 = df[df['fecha'].dt.year == 2010].groupby('MES 2').sum()['nVenta'].reset_index()\n",
    "facturas_mes_2010"
   ]
  },
  {
   "cell_type": "code",
   "execution_count": 58,
   "id": "f0dbbf85",
   "metadata": {},
   "outputs": [
    {
     "data": {
      "text/plain": [
       "Text(0.5, 1.0, 'Title')"
      ]
     },
     "execution_count": 58,
     "metadata": {},
     "output_type": "execute_result"
    },
    {
     "data": {
      "image/png": "[encoded data removed]",
      "text/plain": [
       "<Figure size 432x288 with 1 Axes>"
      ]
     },
     "metadata": {},
     "output_type": "display_data"
    }
   ],
   "source": [
    "ax = sns.lineplot(data=facturas_mes_2010, x=\"MES 2\", y=\"nVenta\")\n",
    "ax.set_title('Title')"
   ]
  },
  {
   "cell_type": "markdown",
   "id": "f440c813",
   "metadata": {},
   "source": [
    "Gráfico que compare el comportamiento de cada año mes a mes"
   ]
  },
  {
   "cell_type": "code",
   "execution_count": 83,
   "id": "265ab0fd",
   "metadata": {},
   "outputs": [],
   "source": [
    "df['month'] = df['fecha'].dt.month_name() # crear una columna que contenga el mes el texto"
   ]
  },
  {
   "cell_type": "code",
   "execution_count": 95,
   "id": "b928c3a3",
   "metadata": {},
   "outputs": [],
   "source": [
    "resumen_ventas = df.groupby(['ANO','MES','MES 2']).sum()['nVenta'].reset_index()"
   ]
  },
  {
   "cell_type": "code",
   "execution_count": 96,
   "id": "be1b5a87",
   "metadata": {},
   "outputs": [
    {
     "data": {
      "text/html": [
       "<div>\n",
       "<style scoped>\n",
       "    .dataframe tbody tr th:only-of-type {\n",
       "        vertical-align: middle;\n",
       "    }\n",
       "\n",
       "    .dataframe tbody tr th {\n",
       "        vertical-align: top;\n",
       "    }\n",
       "\n",
       "    .dataframe thead th {\n",
       "        text-align: right;\n",
       "    }\n",
       "</style>\n",
       "<table border=\"1\" class=\"dataframe\">\n",
       "  <thead>\n",
       "    <tr style=\"text-align: right;\">\n",
       "      <th></th>\n",
       "      <th>ANO</th>\n",
       "      <th>MES</th>\n",
       "      <th>MES 2</th>\n",
       "      <th>nVenta</th>\n",
       "    </tr>\n",
       "  </thead>\n",
       "  <tbody>\n",
       "    <tr>\n",
       "      <th>0</th>\n",
       "      <td>2008</td>\n",
       "      <td>Abril</td>\n",
       "      <td>4</td>\n",
       "      <td>189627617</td>\n",
       "    </tr>\n",
       "    <tr>\n",
       "      <th>1</th>\n",
       "      <td>2008</td>\n",
       "      <td>Agosto</td>\n",
       "      <td>8</td>\n",
       "      <td>341835340</td>\n",
       "    </tr>\n",
       "    <tr>\n",
       "      <th>2</th>\n",
       "      <td>2008</td>\n",
       "      <td>Diciembre</td>\n",
       "      <td>12</td>\n",
       "      <td>1803717628</td>\n",
       "    </tr>\n",
       "    <tr>\n",
       "      <th>3</th>\n",
       "      <td>2008</td>\n",
       "      <td>Julio</td>\n",
       "      <td>7</td>\n",
       "      <td>383187647</td>\n",
       "    </tr>\n",
       "    <tr>\n",
       "      <th>4</th>\n",
       "      <td>2008</td>\n",
       "      <td>Junio</td>\n",
       "      <td>6</td>\n",
       "      <td>343319913</td>\n",
       "    </tr>\n",
       "    <tr>\n",
       "      <th>5</th>\n",
       "      <td>2008</td>\n",
       "      <td>Mayo</td>\n",
       "      <td>5</td>\n",
       "      <td>414348276</td>\n",
       "    </tr>\n",
       "    <tr>\n",
       "      <th>6</th>\n",
       "      <td>2008</td>\n",
       "      <td>Noviembre</td>\n",
       "      <td>11</td>\n",
       "      <td>706539375</td>\n",
       "    </tr>\n",
       "    <tr>\n",
       "      <th>7</th>\n",
       "      <td>2008</td>\n",
       "      <td>Octubre</td>\n",
       "      <td>10</td>\n",
       "      <td>513326068</td>\n",
       "    </tr>\n",
       "    <tr>\n",
       "      <th>8</th>\n",
       "      <td>2008</td>\n",
       "      <td>Septiembre</td>\n",
       "      <td>9</td>\n",
       "      <td>371481046</td>\n",
       "    </tr>\n",
       "    <tr>\n",
       "      <th>9</th>\n",
       "      <td>2009</td>\n",
       "      <td>Abril</td>\n",
       "      <td>4</td>\n",
       "      <td>341834717</td>\n",
       "    </tr>\n",
       "    <tr>\n",
       "      <th>10</th>\n",
       "      <td>2009</td>\n",
       "      <td>Agosto</td>\n",
       "      <td>8</td>\n",
       "      <td>441496700</td>\n",
       "    </tr>\n",
       "    <tr>\n",
       "      <th>11</th>\n",
       "      <td>2009</td>\n",
       "      <td>Diciembre</td>\n",
       "      <td>12</td>\n",
       "      <td>1767406711</td>\n",
       "    </tr>\n",
       "    <tr>\n",
       "      <th>12</th>\n",
       "      <td>2009</td>\n",
       "      <td>Enero</td>\n",
       "      <td>1</td>\n",
       "      <td>521352774</td>\n",
       "    </tr>\n",
       "    <tr>\n",
       "      <th>13</th>\n",
       "      <td>2009</td>\n",
       "      <td>Febrero</td>\n",
       "      <td>2</td>\n",
       "      <td>281180651</td>\n",
       "    </tr>\n",
       "    <tr>\n",
       "      <th>14</th>\n",
       "      <td>2009</td>\n",
       "      <td>Julio</td>\n",
       "      <td>7</td>\n",
       "      <td>413155535</td>\n",
       "    </tr>\n",
       "    <tr>\n",
       "      <th>15</th>\n",
       "      <td>2009</td>\n",
       "      <td>Junio</td>\n",
       "      <td>6</td>\n",
       "      <td>499403873</td>\n",
       "    </tr>\n",
       "    <tr>\n",
       "      <th>16</th>\n",
       "      <td>2009</td>\n",
       "      <td>Marzo</td>\n",
       "      <td>3</td>\n",
       "      <td>354729003</td>\n",
       "    </tr>\n",
       "    <tr>\n",
       "      <th>17</th>\n",
       "      <td>2009</td>\n",
       "      <td>Mayo</td>\n",
       "      <td>5</td>\n",
       "      <td>521457660</td>\n",
       "    </tr>\n",
       "    <tr>\n",
       "      <th>18</th>\n",
       "      <td>2009</td>\n",
       "      <td>Noviembre</td>\n",
       "      <td>11</td>\n",
       "      <td>772272201</td>\n",
       "    </tr>\n",
       "    <tr>\n",
       "      <th>19</th>\n",
       "      <td>2009</td>\n",
       "      <td>Octubre</td>\n",
       "      <td>10</td>\n",
       "      <td>745029801</td>\n",
       "    </tr>\n",
       "    <tr>\n",
       "      <th>20</th>\n",
       "      <td>2009</td>\n",
       "      <td>Septiembre</td>\n",
       "      <td>9</td>\n",
       "      <td>714011861</td>\n",
       "    </tr>\n",
       "    <tr>\n",
       "      <th>21</th>\n",
       "      <td>2010</td>\n",
       "      <td>Abril</td>\n",
       "      <td>4</td>\n",
       "      <td>327668650</td>\n",
       "    </tr>\n",
       "    <tr>\n",
       "      <th>22</th>\n",
       "      <td>2010</td>\n",
       "      <td>Agosto</td>\n",
       "      <td>8</td>\n",
       "      <td>596239609</td>\n",
       "    </tr>\n",
       "    <tr>\n",
       "      <th>23</th>\n",
       "      <td>2010</td>\n",
       "      <td>Diciembre</td>\n",
       "      <td>12</td>\n",
       "      <td>1837472430</td>\n",
       "    </tr>\n",
       "    <tr>\n",
       "      <th>24</th>\n",
       "      <td>2010</td>\n",
       "      <td>Enero</td>\n",
       "      <td>1</td>\n",
       "      <td>479985505</td>\n",
       "    </tr>\n",
       "    <tr>\n",
       "      <th>25</th>\n",
       "      <td>2010</td>\n",
       "      <td>Febrero</td>\n",
       "      <td>2</td>\n",
       "      <td>427942065</td>\n",
       "    </tr>\n",
       "    <tr>\n",
       "      <th>26</th>\n",
       "      <td>2010</td>\n",
       "      <td>Julio</td>\n",
       "      <td>7</td>\n",
       "      <td>406820707</td>\n",
       "    </tr>\n",
       "    <tr>\n",
       "      <th>27</th>\n",
       "      <td>2010</td>\n",
       "      <td>Junio</td>\n",
       "      <td>6</td>\n",
       "      <td>410650400</td>\n",
       "    </tr>\n",
       "    <tr>\n",
       "      <th>28</th>\n",
       "      <td>2010</td>\n",
       "      <td>Marzo</td>\n",
       "      <td>3</td>\n",
       "      <td>422973800</td>\n",
       "    </tr>\n",
       "    <tr>\n",
       "      <th>29</th>\n",
       "      <td>2010</td>\n",
       "      <td>Mayo</td>\n",
       "      <td>5</td>\n",
       "      <td>353490400</td>\n",
       "    </tr>\n",
       "    <tr>\n",
       "      <th>30</th>\n",
       "      <td>2010</td>\n",
       "      <td>Noviembre</td>\n",
       "      <td>11</td>\n",
       "      <td>768909200</td>\n",
       "    </tr>\n",
       "    <tr>\n",
       "      <th>31</th>\n",
       "      <td>2010</td>\n",
       "      <td>Octubre</td>\n",
       "      <td>10</td>\n",
       "      <td>443889630</td>\n",
       "    </tr>\n",
       "    <tr>\n",
       "      <th>32</th>\n",
       "      <td>2010</td>\n",
       "      <td>Septiembre</td>\n",
       "      <td>9</td>\n",
       "      <td>551910963</td>\n",
       "    </tr>\n",
       "    <tr>\n",
       "      <th>33</th>\n",
       "      <td>2011</td>\n",
       "      <td>Abril</td>\n",
       "      <td>4</td>\n",
       "      <td>42787000</td>\n",
       "    </tr>\n",
       "    <tr>\n",
       "      <th>34</th>\n",
       "      <td>2011</td>\n",
       "      <td>Enero</td>\n",
       "      <td>1</td>\n",
       "      <td>549110561</td>\n",
       "    </tr>\n",
       "    <tr>\n",
       "      <th>35</th>\n",
       "      <td>2011</td>\n",
       "      <td>Febrero</td>\n",
       "      <td>2</td>\n",
       "      <td>522215086</td>\n",
       "    </tr>\n",
       "    <tr>\n",
       "      <th>36</th>\n",
       "      <td>2011</td>\n",
       "      <td>Marzo</td>\n",
       "      <td>3</td>\n",
       "      <td>665757500</td>\n",
       "    </tr>\n",
       "  </tbody>\n",
       "</table>\n",
       "</div>"
      ],
      "text/plain": [
       "     ANO         MES  MES 2      nVenta\n",
       "0   2008       Abril      4   189627617\n",
       "1   2008      Agosto      8   341835340\n",
       "2   2008   Diciembre     12  1803717628\n",
       "3   2008       Julio      7   383187647\n",
       "4   2008       Junio      6   343319913\n",
       "5   2008        Mayo      5   414348276\n",
       "6   2008   Noviembre     11   706539375\n",
       "7   2008     Octubre     10   513326068\n",
       "8   2008  Septiembre      9   371481046\n",
       "9   2009       Abril      4   341834717\n",
       "10  2009      Agosto      8   441496700\n",
       "11  2009   Diciembre     12  1767406711\n",
       "12  2009       Enero      1   521352774\n",
       "13  2009     Febrero      2   281180651\n",
       "14  2009       Julio      7   413155535\n",
       "15  2009       Junio      6   499403873\n",
       "16  2009       Marzo      3   354729003\n",
       "17  2009        Mayo      5   521457660\n",
       "18  2009   Noviembre     11   772272201\n",
       "19  2009     Octubre     10   745029801\n",
       "20  2009  Septiembre      9   714011861\n",
       "21  2010       Abril      4   327668650\n",
       "22  2010      Agosto      8   596239609\n",
       "23  2010   Diciembre     12  1837472430\n",
       "24  2010       Enero      1   479985505\n",
       "25  2010     Febrero      2   427942065\n",
       "26  2010       Julio      7   406820707\n",
       "27  2010       Junio      6   410650400\n",
       "28  2010       Marzo      3   422973800\n",
       "29  2010        Mayo      5   353490400\n",
       "30  2010   Noviembre     11   768909200\n",
       "31  2010     Octubre     10   443889630\n",
       "32  2010  Septiembre      9   551910963\n",
       "33  2011       Abril      4    42787000\n",
       "34  2011       Enero      1   549110561\n",
       "35  2011     Febrero      2   522215086\n",
       "36  2011       Marzo      3   665757500"
      ]
     },
     "execution_count": 96,
     "metadata": {},
     "output_type": "execute_result"
    }
   ],
   "source": [
    "resumen_ventas"
   ]
  },
  {
   "cell_type": "markdown",
   "id": "6ff3a967",
   "metadata": {},
   "source": [
    "Ordenar los valores por año y mes"
   ]
  },
  {
   "cell_type": "code",
   "execution_count": 108,
   "id": "1a1e9da4",
   "metadata": {},
   "outputs": [],
   "source": [
    "resumen_ventas.sort_values('MES 2', inplace=True)"
   ]
  },
  {
   "cell_type": "code",
   "execution_count": 109,
   "id": "1301cb61",
   "metadata": {
    "scrolled": false
   },
   "outputs": [
    {
     "data": {
      "text/plain": [
       "<Figure size 1080x576 with 0 Axes>"
      ]
     },
     "execution_count": 109,
     "metadata": {},
     "output_type": "execute_result"
    },
    {
     "data": {
      "image/png": "[encoded data removed]",
      "text/plain": [
       "<Figure size 1080x576 with 1 Axes>"
      ]
     },
     "metadata": {},
     "output_type": "display_data"
    }
   ],
   "source": [
    "plt.figure(figsize=(15,8))\n",
    "ax = sns.lineplot(data=resumen_ventas, x=\"MES\", y=\"nVenta\", hue=\"ANO\")"
   ]
  },
  {
   "cell_type": "markdown",
   "id": "a48eae64",
   "metadata": {},
   "source": [
    "### Participación de ciudades"
   ]
  },
  {
   "cell_type": "markdown",
   "id": "927c0b2e",
   "metadata": {},
   "source": [
    "Mostrar en un grafico la participación de las 10 ciudades donde se registran más facturas "
   ]
  },
  {
   "cell_type": "markdown",
   "id": "47cf7488",
   "metadata": {},
   "source": [
    "1. Obtener las 10 ciudades donde más se registran facturas con su respectiva cantidad de facturas registradas"
   ]
  },
  {
   "cell_type": "code",
   "execution_count": null,
   "id": "7a622954",
   "metadata": {},
   "outputs": [],
   "source": []
  },
  {
   "cell_type": "markdown",
   "id": "1bb09722",
   "metadata": {},
   "source": [
    "2. Realizar un gráfico comparativo entre las diferentes ciudades"
   ]
  },
  {
   "cell_type": "code",
   "execution_count": null,
   "id": "9314a3fe",
   "metadata": {},
   "outputs": [],
   "source": []
  },
  {
   "cell_type": "markdown",
   "id": "c544038b",
   "metadata": {},
   "source": [
    "### Mostrar en un gráfico la realción entre edad y valor de la factura"
   ]
  },
  {
   "cell_type": "markdown",
   "id": "afdfe033",
   "metadata": {},
   "source": [
    "1. Realizar un scatter plot donde se muestre esta relación"
   ]
  },
  {
   "cell_type": "code",
   "execution_count": null,
   "id": "d5c8566f",
   "metadata": {},
   "outputs": [],
   "source": []
  }
 ],
 "metadata": {
  "kernelspec": {
   "display_name": "Python 3",
   "language": "python",
   "name": "python3"
  },
  "language_info": {
   "codemirror_mode": {
    "name": "ipython",
    "version": 3
   },
   "file_extension": ".py",
   "mimetype": "text/x-python",
   "name": "python",
   "nbconvert_exporter": "python",
   "pygments_lexer": "ipython3",
   "version": "3.9.5"
  }
 },
 "nbformat": 4,
 "nbformat_minor": 5
}
