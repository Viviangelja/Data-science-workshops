{
 "cells": [
  {
   "cell_type": "markdown",
   "metadata": {
    "id": "UB2F2sqfHpUS"
   },
   "source": [
    "# Ejemplo de conceptos de Machine Learning\n",
    "\n",
    "El probema es predecir si una mamografía corresponde a un tumor maligno o benigno. Sin embargo no se trabajará con las imágenes sino con cuatro características obtenidas de la imagen (variables independientes) y la variable objetivo (variable dependiente/etiqueta):\n",
    "\n",
    "* Edad del paciente en años\n",
    "* Forma (variable categórica)\n",
    "* Margen (variable categórica)\n",
    "* Densidad (ordinal)\n",
    "* Severidad: benigno (0) o maligno (1)\n",
    "\n",
    ". Más información de las variables del Dataset se encuentran en el siguiente link:\n",
    "http://archive.ics.uci.edu/ml/datasets/mammographic+mass\n"
   ]
  },
  {
   "cell_type": "markdown",
   "metadata": {},
   "source": [
    "## Lectura de datos"
   ]
  },
  {
   "cell_type": "code",
   "execution_count": 9,
   "metadata": {
    "id": "tL3I2peXHpUU"
   },
   "outputs": [],
   "source": [
    "import urllib.request\n",
    "import numpy as np\n",
    "import pandas as pd\n",
    "\n",
    "from sklearn.ensemble import RandomForestClassifier\n",
    "from sklearn.datasets import make_classification\n",
    "from sklearn.model_selection import train_test_split\n",
    "\n",
    "url=\"http://archive.ics.uci.edu/ml/machine-learning-databases/mammographic-masses/mammographic_masses.data\"\n",
    "raw_data = urllib.request.urlopen(url) \n",
    "data=np.genfromtxt(raw_data, delimiter=\",\")"
   ]
  },
  {
   "cell_type": "code",
   "execution_count": 10,
   "metadata": {
    "colab": {
     "base_uri": "https://localhost:8080/"
    },
    "id": "RvaNdpX7HpUc",
    "outputId": "81c3c1f0-cdf3-4bd3-809b-0905a0b24439"
   },
   "outputs": [
    {
     "data": {
      "text/plain": [
       "array([[ 5., 67.,  3.,  5.,  3.,  1.],\n",
       "       [ 4., 43.,  1.,  1., nan,  1.],\n",
       "       [ 5., 58.,  4.,  5.,  3.,  1.],\n",
       "       ...,\n",
       "       [ 4., 64.,  4.,  5.,  3.,  0.],\n",
       "       [ 5., 66.,  4.,  5.,  3.,  1.],\n",
       "       [ 4., 62.,  3.,  3.,  3.,  0.]])"
      ]
     },
     "execution_count": 10,
     "metadata": {},
     "output_type": "execute_result"
    }
   ],
   "source": [
    "data"
   ]
  },
  {
   "cell_type": "markdown",
   "metadata": {},
   "source": [
    "## Análisis descriptivo"
   ]
  },
  {
   "cell_type": "code",
   "execution_count": 11,
   "metadata": {
    "colab": {
     "base_uri": "https://localhost:8080/",
     "height": 297
    },
    "id": "sA1arKFpHpUm",
    "outputId": "adee2dcd-0ef1-42c0-8969-4007c741f19e"
   },
   "outputs": [
    {
     "data": {
      "text/html": [
       "<div>\n",
       "<style scoped>\n",
       "    .dataframe tbody tr th:only-of-type {\n",
       "        vertical-align: middle;\n",
       "    }\n",
       "\n",
       "    .dataframe tbody tr th {\n",
       "        vertical-align: top;\n",
       "    }\n",
       "\n",
       "    .dataframe thead th {\n",
       "        text-align: right;\n",
       "    }\n",
       "</style>\n",
       "<table border=\"1\" class=\"dataframe\">\n",
       "  <thead>\n",
       "    <tr style=\"text-align: right;\">\n",
       "      <th></th>\n",
       "      <th>0</th>\n",
       "      <th>1</th>\n",
       "      <th>2</th>\n",
       "      <th>3</th>\n",
       "      <th>4</th>\n",
       "    </tr>\n",
       "  </thead>\n",
       "  <tbody>\n",
       "    <tr>\n",
       "      <th>count</th>\n",
       "      <td>956.000000</td>\n",
       "      <td>930.000000</td>\n",
       "      <td>913.000000</td>\n",
       "      <td>885.000000</td>\n",
       "      <td>961.000000</td>\n",
       "    </tr>\n",
       "    <tr>\n",
       "      <th>mean</th>\n",
       "      <td>55.487448</td>\n",
       "      <td>2.721505</td>\n",
       "      <td>2.796276</td>\n",
       "      <td>2.910734</td>\n",
       "      <td>0.463059</td>\n",
       "    </tr>\n",
       "    <tr>\n",
       "      <th>std</th>\n",
       "      <td>14.480131</td>\n",
       "      <td>1.242792</td>\n",
       "      <td>1.566546</td>\n",
       "      <td>0.380444</td>\n",
       "      <td>0.498893</td>\n",
       "    </tr>\n",
       "    <tr>\n",
       "      <th>min</th>\n",
       "      <td>18.000000</td>\n",
       "      <td>1.000000</td>\n",
       "      <td>1.000000</td>\n",
       "      <td>1.000000</td>\n",
       "      <td>0.000000</td>\n",
       "    </tr>\n",
       "    <tr>\n",
       "      <th>25%</th>\n",
       "      <td>45.000000</td>\n",
       "      <td>2.000000</td>\n",
       "      <td>1.000000</td>\n",
       "      <td>3.000000</td>\n",
       "      <td>0.000000</td>\n",
       "    </tr>\n",
       "    <tr>\n",
       "      <th>50%</th>\n",
       "      <td>57.000000</td>\n",
       "      <td>3.000000</td>\n",
       "      <td>3.000000</td>\n",
       "      <td>3.000000</td>\n",
       "      <td>0.000000</td>\n",
       "    </tr>\n",
       "    <tr>\n",
       "      <th>75%</th>\n",
       "      <td>66.000000</td>\n",
       "      <td>4.000000</td>\n",
       "      <td>4.000000</td>\n",
       "      <td>3.000000</td>\n",
       "      <td>1.000000</td>\n",
       "    </tr>\n",
       "    <tr>\n",
       "      <th>max</th>\n",
       "      <td>96.000000</td>\n",
       "      <td>4.000000</td>\n",
       "      <td>5.000000</td>\n",
       "      <td>4.000000</td>\n",
       "      <td>1.000000</td>\n",
       "    </tr>\n",
       "  </tbody>\n",
       "</table>\n",
       "</div>"
      ],
      "text/plain": [
       "                0           1           2           3           4\n",
       "count  956.000000  930.000000  913.000000  885.000000  961.000000\n",
       "mean    55.487448    2.721505    2.796276    2.910734    0.463059\n",
       "std     14.480131    1.242792    1.566546    0.380444    0.498893\n",
       "min     18.000000    1.000000    1.000000    1.000000    0.000000\n",
       "25%     45.000000    2.000000    1.000000    3.000000    0.000000\n",
       "50%     57.000000    3.000000    3.000000    3.000000    0.000000\n",
       "75%     66.000000    4.000000    4.000000    3.000000    1.000000\n",
       "max     96.000000    4.000000    5.000000    4.000000    1.000000"
      ]
     },
     "execution_count": 11,
     "metadata": {},
     "output_type": "execute_result"
    }
   ],
   "source": [
    "df_X = pd.DataFrame(data[:,1:]) \n",
    "df_X.describe()"
   ]
  },
  {
   "cell_type": "code",
   "execution_count": 12,
   "metadata": {
    "colab": {
     "base_uri": "https://localhost:8080/",
     "height": 204
    },
    "id": "YrWmvk-THpUs",
    "outputId": "854d4d5e-1196-4218-ecdd-96437e93f71c"
   },
   "outputs": [],
   "source": [
    "teemp = df_X.corr()"
   ]
  },
  {
   "cell_type": "code",
   "execution_count": 13,
   "metadata": {
    "colab": {
     "base_uri": "https://localhost:8080/"
    },
    "id": "sXAj_yADHpUy",
    "outputId": "e6951970-6ae2-4a58-b5d3-bb70e8f06046"
   },
   "outputs": [
    {
     "name": "stdout",
     "output_type": "stream",
     "text": [
      "Col 0 con 5 valores nulos\n",
      "Col 0 con 0.005202913631633715 % de valores nulos\n",
      "Col 1 con 31 valores nulos\n",
      "Col 1 con 0.03225806451612903 % de valores nulos\n",
      "Col 2 con 48 valores nulos\n",
      "Col 2 con 0.04994797086368366 % de valores nulos\n",
      "Col 3 con 76 valores nulos\n",
      "Col 3 con 0.07908428720083246 % de valores nulos\n",
      "Col 4 con 0 valores nulos\n",
      "Col 4 con 0.0 % de valores nulos\n"
     ]
    }
   ],
   "source": [
    "#Análisis de la cantidad de valores nulos\n",
    "\n",
    "for col in df_X.columns:\n",
    "    print(\"Col {0} con {1} valores nulos\".format(col, np.sum(np.isnan(df_X[col]))))\n",
    "    print(\"Col {0} con {1} % de valores nulos\".format(col, np.mean(np.isnan(df_X[col]))))"
   ]
  },
  {
   "cell_type": "code",
   "execution_count": 14,
   "metadata": {
    "colab": {
     "base_uri": "https://localhost:8080/"
    },
    "id": "Embqz2y7HpU6",
    "outputId": "be29ff36-1324-4920-eb38-d6f2203c37ca"
   },
   "outputs": [
    {
     "name": "stdout",
     "output_type": "stream",
     "text": [
      "Tamaño antes: (961, 5)\n",
      "Tamaño despues: (831, 5)\n"
     ]
    }
   ],
   "source": [
    "print(\"Tamaño antes: {}\".format(df_X.shape))\n",
    "clean_df_X=df_X.dropna()\n",
    "print(\"Tamaño despues: {}\".format(clean_df_X.shape))\n"
   ]
  },
  {
   "cell_type": "markdown",
   "metadata": {},
   "source": [
    "## Modelo predictivo"
   ]
  },
  {
   "cell_type": "code",
   "execution_count": 26,
   "metadata": {
    "colab": {
     "base_uri": "https://localhost:8080/"
    },
    "id": "8lkSCVY_HpVA",
    "outputId": "833f4c90-78c2-4d3b-a2ff-f657bc0fcaf2"
   },
   "outputs": [
    {
     "name": "stdout",
     "output_type": "stream",
     "text": [
      "Numero de muestras de entrenamiento: 664\n",
      "Numero de muestras de prueba: 167\n"
     ]
    }
   ],
   "source": [
    "X = clean_df_X.loc[:,range(4)]\n",
    "y = clean_df_X.loc[:,4]\n",
    "\n",
    "X_train, X_test, y_train, y_test = train_test_split(X,y,test_size=0.2) # Separar datos de entrenamiento y de prueba\n",
    "\n",
    "print(\"Numero de muestras de entrenamiento: %3.f\" % X_train.shape[0])\n",
    "print(\"Numero de muestras de prueba: %3.f\" % X_test.shape[0])"
   ]
  },
  {
   "cell_type": "code",
   "execution_count": 45,
   "metadata": {
    "colab": {
     "base_uri": "https://localhost:8080/"
    },
    "id": "ZIuf0C45HpVG",
    "outputId": "0e9d66d8-2d66-40de-f4fa-128dbda9680a"
   },
   "outputs": [
    {
     "data": {
      "text/plain": [
       "RandomForestClassifier(max_depth=6, random_state=0)"
      ]
     },
     "execution_count": 45,
     "metadata": {},
     "output_type": "execute_result"
    }
   ],
   "source": [
    "clf = RandomForestClassifier(max_depth=6, random_state=0) # crear el modelo\n",
    "\n",
    "clf.fit(X_train, y_train) # Entrenar el modelo"
   ]
  },
  {
   "cell_type": "markdown",
   "metadata": {},
   "source": [
    "## Evaluar el modelo"
   ]
  },
  {
   "cell_type": "code",
   "execution_count": 46,
   "metadata": {},
   "outputs": [
    {
     "name": "stdout",
     "output_type": "stream",
     "text": [
      "entrenamiento 0.15813253012048192\n",
      "prueba 0.16167664670658682\n"
     ]
    }
   ],
   "source": [
    "print('entrenamiento',np.mean(clf.predict(X_train)!=y_train))\n",
    "print('prueba', np.mean(clf.predict(X_test)!=y_test))"
   ]
  },
  {
   "cell_type": "markdown",
   "metadata": {},
   "source": [
    "## Evaluar diferentes hiperparametros"
   ]
  },
  {
   "cell_type": "code",
   "execution_count": 40,
   "metadata": {
    "colab": {
     "base_uri": "https://localhost:8080/",
     "height": 282
    },
    "id": "RFMYhck4HpVO",
    "outputId": "d082d1c8-cd16-41a4-ae42-2aee291f4d44"
   },
   "outputs": [
    {
     "data": {
      "text/plain": [
       "RandomForestClassifier(max_depth=1, random_state=0)"
      ]
     },
     "execution_count": 40,
     "metadata": {},
     "output_type": "execute_result"
    },
    {
     "data": {
      "text/plain": [
       "RandomForestClassifier(max_depth=2, random_state=0)"
      ]
     },
     "execution_count": 40,
     "metadata": {},
     "output_type": "execute_result"
    },
    {
     "data": {
      "text/plain": [
       "RandomForestClassifier(max_depth=3, random_state=0)"
      ]
     },
     "execution_count": 40,
     "metadata": {},
     "output_type": "execute_result"
    },
    {
     "data": {
      "text/plain": [
       "RandomForestClassifier(max_depth=4, random_state=0)"
      ]
     },
     "execution_count": 40,
     "metadata": {},
     "output_type": "execute_result"
    },
    {
     "data": {
      "text/plain": [
       "RandomForestClassifier(max_depth=5, random_state=0)"
      ]
     },
     "execution_count": 40,
     "metadata": {},
     "output_type": "execute_result"
    },
    {
     "data": {
      "text/plain": [
       "RandomForestClassifier(max_depth=6, random_state=0)"
      ]
     },
     "execution_count": 40,
     "metadata": {},
     "output_type": "execute_result"
    },
    {
     "data": {
      "text/plain": [
       "RandomForestClassifier(max_depth=7, random_state=0)"
      ]
     },
     "execution_count": 40,
     "metadata": {},
     "output_type": "execute_result"
    },
    {
     "data": {
      "text/plain": [
       "RandomForestClassifier(max_depth=8, random_state=0)"
      ]
     },
     "execution_count": 40,
     "metadata": {},
     "output_type": "execute_result"
    },
    {
     "data": {
      "text/plain": [
       "RandomForestClassifier(max_depth=9, random_state=0)"
      ]
     },
     "execution_count": 40,
     "metadata": {},
     "output_type": "execute_result"
    },
    {
     "data": {
      "text/plain": [
       "RandomForestClassifier(max_depth=10, random_state=0)"
      ]
     },
     "execution_count": 40,
     "metadata": {},
     "output_type": "execute_result"
    },
    {
     "data": {
      "text/plain": [
       "RandomForestClassifier(max_depth=11, random_state=0)"
      ]
     },
     "execution_count": 40,
     "metadata": {},
     "output_type": "execute_result"
    },
    {
     "data": {
      "text/plain": [
       "RandomForestClassifier(max_depth=12, random_state=0)"
      ]
     },
     "execution_count": 40,
     "metadata": {},
     "output_type": "execute_result"
    },
    {
     "data": {
      "text/plain": [
       "RandomForestClassifier(max_depth=100, random_state=0)"
      ]
     },
     "execution_count": 40,
     "metadata": {},
     "output_type": "execute_result"
    },
    {
     "data": {
      "text/plain": [
       "[<matplotlib.lines.Line2D at 0x7fe12fae7340>]"
      ]
     },
     "execution_count": 40,
     "metadata": {},
     "output_type": "execute_result"
    },
    {
     "data": {
      "text/plain": [
       "[<matplotlib.lines.Line2D at 0x7fe12fa92ac0>]"
      ]
     },
     "execution_count": 40,
     "metadata": {},
     "output_type": "execute_result"
    },
    {
     "data": {
      "image/png": "[encoded data removed]",
      "text/plain": [
       "<Figure size 432x288 with 1 Axes>"
      ]
     },
     "metadata": {
      "needs_background": "light"
     },
     "output_type": "display_data"
    }
   ],
   "source": [
    "#Ejemplo de sobreentrenamiento (overfitting)\n",
    "\n",
    "%matplotlib inline\n",
    "import matplotlib.pyplot as plt\n",
    "\n",
    "max_depths= [1,2,3,4,5,6,7,8,9,10,11,12,100]\n",
    "train_error = []\n",
    "test_error = []\n",
    "\n",
    "for max_depth in max_depths:\n",
    "    \n",
    "    #Creación del algoritmo\n",
    "    clf = RandomForestClassifier(max_depth=max_depth, random_state=0)\n",
    "    \n",
    "    #Entrenamiento del algoritmo\n",
    "    clf.fit(X_train, y_train)\n",
    "\n",
    "    train_error.append(np.mean(clf.predict(X_train)!=y_train))\n",
    "    test_error.append(np.mean(clf.predict(X_test)!=y_test))\n",
    "\n",
    "plt.plot(train_error, color=\"b\")\n",
    "plt.plot(test_error, color=\"r\")\n"
   ]
  },
  {
   "cell_type": "code",
   "execution_count": 42,
   "metadata": {
    "colab": {
     "base_uri": "https://localhost:8080/",
     "height": 282
    },
    "id": "o9KC8G9XHpVW",
    "outputId": "5a066e00-cdae-4403-f1ab-eeca64528452"
   },
   "outputs": [
    {
     "data": {
      "text/plain": [
       "RandomForestClassifier(max_depth=3, random_state=0)"
      ]
     },
     "execution_count": 42,
     "metadata": {},
     "output_type": "execute_result"
    },
    {
     "data": {
      "text/plain": [
       "RandomForestClassifier(max_depth=3, random_state=0)"
      ]
     },
     "execution_count": 42,
     "metadata": {},
     "output_type": "execute_result"
    },
    {
     "data": {
      "text/plain": [
       "RandomForestClassifier(max_depth=3, random_state=0)"
      ]
     },
     "execution_count": 42,
     "metadata": {},
     "output_type": "execute_result"
    },
    {
     "data": {
      "text/plain": [
       "RandomForestClassifier(max_depth=3, random_state=0)"
      ]
     },
     "execution_count": 42,
     "metadata": {},
     "output_type": "execute_result"
    },
    {
     "data": {
      "text/plain": [
       "RandomForestClassifier(max_depth=3, random_state=0)"
      ]
     },
     "execution_count": 42,
     "metadata": {},
     "output_type": "execute_result"
    },
    {
     "data": {
      "text/plain": [
       "RandomForestClassifier(max_depth=3, random_state=0)"
      ]
     },
     "execution_count": 42,
     "metadata": {},
     "output_type": "execute_result"
    },
    {
     "data": {
      "text/plain": [
       "RandomForestClassifier(max_depth=3, random_state=0)"
      ]
     },
     "execution_count": 42,
     "metadata": {},
     "output_type": "execute_result"
    },
    {
     "data": {
      "text/plain": [
       "RandomForestClassifier(max_depth=3, random_state=0)"
      ]
     },
     "execution_count": 42,
     "metadata": {},
     "output_type": "execute_result"
    },
    {
     "data": {
      "text/plain": [
       "RandomForestClassifier(max_depth=3, random_state=0)"
      ]
     },
     "execution_count": 42,
     "metadata": {},
     "output_type": "execute_result"
    },
    {
     "data": {
      "text/plain": [
       "RandomForestClassifier(max_depth=3, random_state=0)"
      ]
     },
     "execution_count": 42,
     "metadata": {},
     "output_type": "execute_result"
    },
    {
     "data": {
      "text/plain": [
       "RandomForestClassifier(max_depth=3, random_state=0)"
      ]
     },
     "execution_count": 42,
     "metadata": {},
     "output_type": "execute_result"
    },
    {
     "data": {
      "text/plain": [
       "RandomForestClassifier(max_depth=3, random_state=0)"
      ]
     },
     "execution_count": 42,
     "metadata": {},
     "output_type": "execute_result"
    },
    {
     "data": {
      "text/plain": [
       "RandomForestClassifier(max_depth=3, random_state=0)"
      ]
     },
     "execution_count": 42,
     "metadata": {},
     "output_type": "execute_result"
    },
    {
     "data": {
      "text/plain": [
       "[<matplotlib.lines.Line2D at 0x7fe12fd315e0>]"
      ]
     },
     "execution_count": 42,
     "metadata": {},
     "output_type": "execute_result"
    },
    {
     "data": {
      "text/plain": [
       "[<matplotlib.lines.Line2D at 0x7fe12fcfca60>]"
      ]
     },
     "execution_count": 42,
     "metadata": {},
     "output_type": "execute_result"
    },
    {
     "data": {
      "image/png": "[encoded data removed]",
      "text/plain": [
       "<Figure size 432x288 with 1 Axes>"
      ]
     },
     "metadata": {
      "needs_background": "light"
     },
     "output_type": "display_data"
    }
   ],
   "source": [
    "#Ejemplo generalización vs. número de muestras\n",
    "\n",
    "original_size = X_train.shape[0]\n",
    "\n",
    "train_error = []\n",
    "test_error = []\n",
    "\n",
    "for train_size in range(50, original_size, 50):\n",
    "    \n",
    "    #Submuestro del algoritmo\n",
    "    samples = np.random.randint(0,original_size,train_size)\n",
    "    X_train2 = X_train.iloc[samples,]\n",
    "    y_train2 = y_train.iloc[samples]\n",
    "    \n",
    "    #Creación del modelo\n",
    "    clf = RandomForestClassifier(max_depth=3, random_state=0)\n",
    "    \n",
    "    #Entrenamiento del modelo\n",
    "    clf.fit(X_train2, y_train2)\n",
    "\n",
    "    train_error.append(np.mean(clf.predict(X_train2)!=y_train2))\n",
    "    test_error.append(np.mean(clf.predict(X_test)!=y_test))\n",
    "\n",
    "plt.plot(list(range(50, original_size, 50)),train_error, color=\"b\")\n",
    "plt.plot(list(range(50, original_size, 50)),test_error, color=\"r\")  \n",
    "    "
   ]
  },
  {
   "cell_type": "code",
   "execution_count": null,
   "metadata": {
    "id": "G1lkL_wLr3At"
   },
   "outputs": [],
   "source": []
  },
  {
   "cell_type": "code",
   "execution_count": null,
   "metadata": {},
   "outputs": [],
   "source": []
  }
 ],
 "metadata": {
  "colab": {
   "name": "EjemploConceptosML.ipynb",
   "provenance": []
  },
  "kernelspec": {
   "display_name": "Python 3",
   "language": "python",
   "name": "python3"
  },
  "language_info": {
   "codemirror_mode": {
    "name": "ipython",
    "version": 3
   },
   "file_extension": ".py",
   "mimetype": "text/x-python",
   "name": "python",
   "nbconvert_exporter": "python",
   "pygments_lexer": "ipython3",
   "version": "3.9.5"
  }
 },
 "nbformat": 4,
 "nbformat_minor": 1
}
