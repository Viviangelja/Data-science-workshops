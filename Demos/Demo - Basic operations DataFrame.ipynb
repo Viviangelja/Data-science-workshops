{
 "cells": [
  {
   "cell_type": "markdown",
   "id": "6cb4e40a",
   "metadata": {},
   "source": [
    "# Ventas Centro Comercial"
   ]
  },
  {
   "cell_type": "markdown",
   "id": "3e5b6c14",
   "metadata": {},
   "source": [
    "La base de datos Centro Comercial es un caso clásico de registro de facturas de compra por parte de los puntos de atención. Allí se solicitan los datos de los clientes compradores a partir de facturas superiores a 50 mil pesos. El objetivo es poder caracterizar los clientes e identificar los establecimientos de mayor y menor desempeño en función de la afluencia de clientes que visitan sus tiendas. Se espera mediante un análisis descriptivo y exploratorio proponer una segmentación de almacenes y clientes y proponer estrategias de fidelización."
   ]
  },
  {
   "cell_type": "markdown",
   "id": "8bfc412e",
   "metadata": {},
   "source": [
    "### Importar librerías"
   ]
  },
  {
   "cell_type": "code",
   "execution_count": 104,
   "id": "f89e94b8",
   "metadata": {},
   "outputs": [],
   "source": [
    "import pandas as pd\n",
    "import numpy as np \n",
    "import seaborn as sns\n",
    "\n",
    "sns.set_theme()"
   ]
  },
  {
   "cell_type": "markdown",
   "id": "c76041c9",
   "metadata": {},
   "source": [
    "### Leer los datos"
   ]
  },
  {
   "cell_type": "code",
   "execution_count": 2,
   "id": "9a6c8d4d",
   "metadata": {},
   "outputs": [],
   "source": [
    "df = pd.read_excel('Caso 04 - Ventas en Centro Comercial.xlsx', sheet_name='bd')"
   ]
  },
  {
   "cell_type": "code",
   "execution_count": 3,
   "id": "856e4007",
   "metadata": {},
   "outputs": [
    {
     "data": {
      "text/html": [
       "<div>\n",
       "<style scoped>\n",
       "    .dataframe tbody tr th:only-of-type {\n",
       "        vertical-align: middle;\n",
       "    }\n",
       "\n",
       "    .dataframe tbody tr th {\n",
       "        vertical-align: top;\n",
       "    }\n",
       "\n",
       "    .dataframe thead th {\n",
       "        text-align: right;\n",
       "    }\n",
       "</style>\n",
       "<table border=\"1\" class=\"dataframe\">\n",
       "  <thead>\n",
       "    <tr style=\"text-align: right;\">\n",
       "      <th></th>\n",
       "      <th>Cedula</th>\n",
       "      <th>Nombre Completo</th>\n",
       "      <th>nCodigoTransaccion</th>\n",
       "      <th>nCodigoConsumidor</th>\n",
       "      <th>Almacen</th>\n",
       "      <th>Categoria</th>\n",
       "      <th>nVenta</th>\n",
       "      <th>nItem</th>\n",
       "      <th>sEmail</th>\n",
       "      <th>Ciudad</th>\n",
       "      <th>...</th>\n",
       "      <th>EDAD</th>\n",
       "      <th>RECENCIA DIAS</th>\n",
       "      <th>Dirección</th>\n",
       "      <th>MailValido</th>\n",
       "      <th>CelValid</th>\n",
       "      <th>TelefonoMovil</th>\n",
       "      <th>TelOfcValid</th>\n",
       "      <th>TelefonoOficina</th>\n",
       "      <th>TelCasaValid</th>\n",
       "      <th>TelefonoCasa</th>\n",
       "    </tr>\n",
       "  </thead>\n",
       "  <tbody>\n",
       "    <tr>\n",
       "      <th>0</th>\n",
       "      <td>1</td>\n",
       "      <td>NOMBRE APELLIDO 1</td>\n",
       "      <td>29344936</td>\n",
       "      <td>6700170</td>\n",
       "      <td>Escape</td>\n",
       "      <td>Moda Masculina y Femenina</td>\n",
       "      <td>203000</td>\n",
       "      <td>1</td>\n",
       "      <td>NaN</td>\n",
       "      <td>SABANETA</td>\n",
       "      <td>...</td>\n",
       "      <td>19</td>\n",
       "      <td>15</td>\n",
       "      <td>NaN</td>\n",
       "      <td>No</td>\n",
       "      <td>Si</td>\n",
       "      <td>NaN</td>\n",
       "      <td>No</td>\n",
       "      <td>NaN</td>\n",
       "      <td>Si</td>\n",
       "      <td>NaN</td>\n",
       "    </tr>\n",
       "    <tr>\n",
       "      <th>1</th>\n",
       "      <td>2</td>\n",
       "      <td>NOMBRE APELLIDO 2</td>\n",
       "      <td>31924314</td>\n",
       "      <td>2357373</td>\n",
       "      <td>Bon Bonite</td>\n",
       "      <td>Calzado y Bolsos</td>\n",
       "      <td>284000</td>\n",
       "      <td>1</td>\n",
       "      <td>NaN</td>\n",
       "      <td>MEDELLIN</td>\n",
       "      <td>...</td>\n",
       "      <td>40</td>\n",
       "      <td>3</td>\n",
       "      <td>NaN</td>\n",
       "      <td>No</td>\n",
       "      <td>Si</td>\n",
       "      <td>NaN</td>\n",
       "      <td>No</td>\n",
       "      <td>NaN</td>\n",
       "      <td>Si</td>\n",
       "      <td>NaN</td>\n",
       "    </tr>\n",
       "    <tr>\n",
       "      <th>2</th>\n",
       "      <td>3</td>\n",
       "      <td>NOMBRE APELLIDO 3</td>\n",
       "      <td>31924315</td>\n",
       "      <td>2357373</td>\n",
       "      <td>Velez</td>\n",
       "      <td>Calzado y Bolsos</td>\n",
       "      <td>324000</td>\n",
       "      <td>1</td>\n",
       "      <td>NaN</td>\n",
       "      <td>MEDELLIN</td>\n",
       "      <td>...</td>\n",
       "      <td>40</td>\n",
       "      <td>3</td>\n",
       "      <td>NaN</td>\n",
       "      <td>No</td>\n",
       "      <td>Si</td>\n",
       "      <td>NaN</td>\n",
       "      <td>No</td>\n",
       "      <td>NaN</td>\n",
       "      <td>Si</td>\n",
       "      <td>NaN</td>\n",
       "    </tr>\n",
       "  </tbody>\n",
       "</table>\n",
       "<p>3 rows × 37 columns</p>\n",
       "</div>"
      ],
      "text/plain": [
       "   Cedula    Nombre Completo  nCodigoTransaccion  nCodigoConsumidor  \\\n",
       "0       1  NOMBRE APELLIDO 1            29344936            6700170   \n",
       "1       2  NOMBRE APELLIDO 2            31924314            2357373   \n",
       "2       3  NOMBRE APELLIDO 3            31924315            2357373   \n",
       "\n",
       "      Almacen                  Categoria  nVenta  nItem  sEmail    Ciudad  \\\n",
       "0      Escape  Moda Masculina y Femenina  203000      1     NaN  SABANETA   \n",
       "1  Bon Bonite           Calzado y Bolsos  284000      1     NaN  MEDELLIN   \n",
       "2       Velez           Calzado y Bolsos  324000      1     NaN  MEDELLIN   \n",
       "\n",
       "   ... EDAD RECENCIA DIAS  Dirección MailValido  CelValid TelefonoMovil  \\\n",
       "0  ...   19            15        NaN         No        Si           NaN   \n",
       "1  ...   40             3        NaN         No        Si           NaN   \n",
       "2  ...   40             3        NaN         No        Si           NaN   \n",
       "\n",
       "  TelOfcValid TelefonoOficina TelCasaValid  TelefonoCasa  \n",
       "0          No             NaN           Si           NaN  \n",
       "1          No             NaN           Si           NaN  \n",
       "2          No             NaN           Si           NaN  \n",
       "\n",
       "[3 rows x 37 columns]"
      ]
     },
     "execution_count": 3,
     "metadata": {},
     "output_type": "execute_result"
    }
   ],
   "source": [
    "df.head(3)"
   ]
  },
  {
   "cell_type": "code",
   "execution_count": 4,
   "id": "b31ee15d",
   "metadata": {},
   "outputs": [
    {
     "data": {
      "text/html": [
       "<div>\n",
       "<style scoped>\n",
       "    .dataframe tbody tr th:only-of-type {\n",
       "        vertical-align: middle;\n",
       "    }\n",
       "\n",
       "    .dataframe tbody tr th {\n",
       "        vertical-align: top;\n",
       "    }\n",
       "\n",
       "    .dataframe thead th {\n",
       "        text-align: right;\n",
       "    }\n",
       "</style>\n",
       "<table border=\"1\" class=\"dataframe\">\n",
       "  <thead>\n",
       "    <tr style=\"text-align: right;\">\n",
       "      <th></th>\n",
       "      <th>Cedula</th>\n",
       "      <th>Nombre Completo</th>\n",
       "      <th>nCodigoTransaccion</th>\n",
       "      <th>nCodigoConsumidor</th>\n",
       "      <th>Almacen</th>\n",
       "      <th>Categoria</th>\n",
       "      <th>nVenta</th>\n",
       "      <th>nItem</th>\n",
       "      <th>sEmail</th>\n",
       "      <th>Ciudad</th>\n",
       "      <th>...</th>\n",
       "      <th>EDAD</th>\n",
       "      <th>RECENCIA DIAS</th>\n",
       "      <th>Dirección</th>\n",
       "      <th>MailValido</th>\n",
       "      <th>CelValid</th>\n",
       "      <th>TelefonoMovil</th>\n",
       "      <th>TelOfcValid</th>\n",
       "      <th>TelefonoOficina</th>\n",
       "      <th>TelCasaValid</th>\n",
       "      <th>TelefonoCasa</th>\n",
       "    </tr>\n",
       "  </thead>\n",
       "  <tbody>\n",
       "    <tr>\n",
       "      <th>112949</th>\n",
       "      <td>112950</td>\n",
       "      <td>NOMBRE APELLIDO 112950</td>\n",
       "      <td>26746717</td>\n",
       "      <td>6355246</td>\n",
       "      <td>Saldos De Exportación</td>\n",
       "      <td>Moda Masculina y Femenina</td>\n",
       "      <td>5000</td>\n",
       "      <td>1</td>\n",
       "      <td>NaN</td>\n",
       "      <td>MEDELLIN</td>\n",
       "      <td>...</td>\n",
       "      <td>13</td>\n",
       "      <td>23</td>\n",
       "      <td>NaN</td>\n",
       "      <td>No</td>\n",
       "      <td>Si</td>\n",
       "      <td>NaN</td>\n",
       "      <td>Si</td>\n",
       "      <td>NaN</td>\n",
       "      <td>Si</td>\n",
       "      <td>NaN</td>\n",
       "    </tr>\n",
       "    <tr>\n",
       "      <th>112950</th>\n",
       "      <td>112951</td>\n",
       "      <td>NOMBRE APELLIDO 112951</td>\n",
       "      <td>31386254</td>\n",
       "      <td>6355246</td>\n",
       "      <td>Calzado Goysa</td>\n",
       "      <td>Calzado y Bolsos</td>\n",
       "      <td>60000</td>\n",
       "      <td>1</td>\n",
       "      <td>NaN</td>\n",
       "      <td>MEDELLIN</td>\n",
       "      <td>...</td>\n",
       "      <td>13</td>\n",
       "      <td>9</td>\n",
       "      <td>NaN</td>\n",
       "      <td>No</td>\n",
       "      <td>Si</td>\n",
       "      <td>NaN</td>\n",
       "      <td>Si</td>\n",
       "      <td>NaN</td>\n",
       "      <td>Si</td>\n",
       "      <td>NaN</td>\n",
       "    </tr>\n",
       "    <tr>\n",
       "      <th>112951</th>\n",
       "      <td>112952</td>\n",
       "      <td>NOMBRE APELLIDO 112952</td>\n",
       "      <td>31577681</td>\n",
       "      <td>7060684</td>\n",
       "      <td>Monas Y Morenas</td>\n",
       "      <td>Moda Femenina</td>\n",
       "      <td>50000</td>\n",
       "      <td>1</td>\n",
       "      <td>NaN</td>\n",
       "      <td>MEDELLIN</td>\n",
       "      <td>...</td>\n",
       "      <td>22</td>\n",
       "      <td>7</td>\n",
       "      <td>NaN</td>\n",
       "      <td>Si</td>\n",
       "      <td>Si</td>\n",
       "      <td>NaN</td>\n",
       "      <td>No</td>\n",
       "      <td>NaN</td>\n",
       "      <td>Si</td>\n",
       "      <td>NaN</td>\n",
       "    </tr>\n",
       "  </tbody>\n",
       "</table>\n",
       "<p>3 rows × 37 columns</p>\n",
       "</div>"
      ],
      "text/plain": [
       "        Cedula         Nombre Completo  nCodigoTransaccion  nCodigoConsumidor  \\\n",
       "112949  112950  NOMBRE APELLIDO 112950            26746717            6355246   \n",
       "112950  112951  NOMBRE APELLIDO 112951            31386254            6355246   \n",
       "112951  112952  NOMBRE APELLIDO 112952            31577681            7060684   \n",
       "\n",
       "                      Almacen                  Categoria  nVenta  nItem  \\\n",
       "112949  Saldos De Exportación  Moda Masculina y Femenina    5000      1   \n",
       "112950          Calzado Goysa           Calzado y Bolsos   60000      1   \n",
       "112951        Monas Y Morenas              Moda Femenina   50000      1   \n",
       "\n",
       "        sEmail    Ciudad  ... EDAD RECENCIA DIAS  Dirección MailValido  \\\n",
       "112949     NaN  MEDELLIN  ...   13            23        NaN         No   \n",
       "112950     NaN  MEDELLIN  ...   13             9        NaN         No   \n",
       "112951     NaN  MEDELLIN  ...   22             7        NaN         Si   \n",
       "\n",
       "        CelValid TelefonoMovil TelOfcValid TelefonoOficina TelCasaValid  \\\n",
       "112949        Si           NaN          Si             NaN           Si   \n",
       "112950        Si           NaN          Si             NaN           Si   \n",
       "112951        Si           NaN          No             NaN           Si   \n",
       "\n",
       "        TelefonoCasa  \n",
       "112949           NaN  \n",
       "112950           NaN  \n",
       "112951           NaN  \n",
       "\n",
       "[3 rows x 37 columns]"
      ]
     },
     "execution_count": 4,
     "metadata": {},
     "output_type": "execute_result"
    }
   ],
   "source": [
    "df.tail(3)"
   ]
  },
  {
   "cell_type": "code",
   "execution_count": 6,
   "id": "3c9487b4",
   "metadata": {},
   "outputs": [
    {
     "name": "stdout",
     "output_type": "stream",
     "text": [
      "<class 'pandas.core.frame.DataFrame'>\n",
      "RangeIndex: 112952 entries, 0 to 112951\n",
      "Data columns (total 37 columns):\n",
      " #   Column              Non-Null Count   Dtype  \n",
      "---  ------              --------------   -----  \n",
      " 0   Cedula              112952 non-null  int64  \n",
      " 1   Nombre Completo     112952 non-null  object \n",
      " 2   nCodigoTransaccion  112952 non-null  int64  \n",
      " 3   nCodigoConsumidor   112952 non-null  int64  \n",
      " 4   Almacen             112952 non-null  object \n",
      " 5   Categoria           112952 non-null  object \n",
      " 6   nVenta              112952 non-null  int64  \n",
      " 7   nItem               112952 non-null  int64  \n",
      " 8   sEmail              0 non-null       float64\n",
      " 9   Ciudad              112952 non-null  object \n",
      " 10  nCodigoGenero       112952 non-null  object \n",
      " 11  nCodigoEstadoCivil  112952 non-null  object \n",
      " 12  ANO                 112952 non-null  int64  \n",
      " 13  MES                 112952 non-null  object \n",
      " 14  DIA                 112952 non-null  int64  \n",
      " 15  DIASEMANA           112952 non-null  object \n",
      " 16  ANOMES              112952 non-null  object \n",
      " 17  ANOMESDIA           112952 non-null  object \n",
      " 18  SEMESTRE            112952 non-null  object \n",
      " 19  VentasMM            112952 non-null  float64\n",
      " 20  SEMESTREDIG         112952 non-null  object \n",
      " 21  ANONCTO             112952 non-null  int64  \n",
      " 22  MESNCTO             112952 non-null  object \n",
      " 23  DIANCTO             112952 non-null  int64  \n",
      " 24  DIASEMANANCTO       112952 non-null  object \n",
      " 25  ANOMESNCTO          112952 non-null  object \n",
      " 26  ANOMESDIANCTO       112952 non-null  object \n",
      " 27  EDAD                112952 non-null  int64  \n",
      " 28  RECENCIA DIAS       112952 non-null  int64  \n",
      " 29  Dirección           0 non-null       float64\n",
      " 30  MailValido          112952 non-null  object \n",
      " 31  CelValid            112952 non-null  object \n",
      " 32  TelefonoMovil       0 non-null       float64\n",
      " 33  TelOfcValid         112952 non-null  object \n",
      " 34  TelefonoOficina     0 non-null       float64\n",
      " 35  TelCasaValid        112952 non-null  object \n",
      " 36  TelefonoCasa        0 non-null       float64\n",
      "dtypes: float64(6), int64(11), object(20)\n",
      "memory usage: 31.9+ MB\n"
     ]
    }
   ],
   "source": [
    "df.info()"
   ]
  },
  {
   "cell_type": "code",
   "execution_count": 7,
   "id": "50334f3a",
   "metadata": {},
   "outputs": [],
   "source": [
    "df['nCodigoConsumidor'] = df['nCodigoConsumidor'].astype(str)"
   ]
  },
  {
   "cell_type": "code",
   "execution_count": 8,
   "id": "6eba4085",
   "metadata": {},
   "outputs": [
    {
     "name": "stdout",
     "output_type": "stream",
     "text": [
      "<class 'pandas.core.frame.DataFrame'>\n",
      "RangeIndex: 112952 entries, 0 to 112951\n",
      "Data columns (total 37 columns):\n",
      " #   Column              Non-Null Count   Dtype  \n",
      "---  ------              --------------   -----  \n",
      " 0   Cedula              112952 non-null  int64  \n",
      " 1   Nombre Completo     112952 non-null  object \n",
      " 2   nCodigoTransaccion  112952 non-null  int64  \n",
      " 3   nCodigoConsumidor   112952 non-null  object \n",
      " 4   Almacen             112952 non-null  object \n",
      " 5   Categoria           112952 non-null  object \n",
      " 6   nVenta              112952 non-null  int64  \n",
      " 7   nItem               112952 non-null  int64  \n",
      " 8   sEmail              0 non-null       float64\n",
      " 9   Ciudad              112952 non-null  object \n",
      " 10  nCodigoGenero       112952 non-null  object \n",
      " 11  nCodigoEstadoCivil  112952 non-null  object \n",
      " 12  ANO                 112952 non-null  int64  \n",
      " 13  MES                 112952 non-null  object \n",
      " 14  DIA                 112952 non-null  int64  \n",
      " 15  DIASEMANA           112952 non-null  object \n",
      " 16  ANOMES              112952 non-null  object \n",
      " 17  ANOMESDIA           112952 non-null  object \n",
      " 18  SEMESTRE            112952 non-null  object \n",
      " 19  VentasMM            112952 non-null  float64\n",
      " 20  SEMESTREDIG         112952 non-null  object \n",
      " 21  ANONCTO             112952 non-null  int64  \n",
      " 22  MESNCTO             112952 non-null  object \n",
      " 23  DIANCTO             112952 non-null  int64  \n",
      " 24  DIASEMANANCTO       112952 non-null  object \n",
      " 25  ANOMESNCTO          112952 non-null  object \n",
      " 26  ANOMESDIANCTO       112952 non-null  object \n",
      " 27  EDAD                112952 non-null  int64  \n",
      " 28  RECENCIA DIAS       112952 non-null  int64  \n",
      " 29  Dirección           0 non-null       float64\n",
      " 30  MailValido          112952 non-null  object \n",
      " 31  CelValid            112952 non-null  object \n",
      " 32  TelefonoMovil       0 non-null       float64\n",
      " 33  TelOfcValid         112952 non-null  object \n",
      " 34  TelefonoOficina     0 non-null       float64\n",
      " 35  TelCasaValid        112952 non-null  object \n",
      " 36  TelefonoCasa        0 non-null       float64\n",
      "dtypes: float64(6), int64(10), object(21)\n",
      "memory usage: 31.9+ MB\n"
     ]
    }
   ],
   "source": [
    "df.info()"
   ]
  },
  {
   "cell_type": "markdown",
   "id": "0ac3d6b7",
   "metadata": {},
   "source": [
    "### Realizar el histograma del valor de la factura 'nVenta'"
   ]
  },
  {
   "cell_type": "code",
   "execution_count": 9,
   "id": "ce479ae7",
   "metadata": {},
   "outputs": [
    {
     "data": {
      "text/plain": [
       "array([[<AxesSubplot:title={'center':'nVenta'}>]], dtype=object)"
      ]
     },
     "execution_count": 9,
     "metadata": {},
     "output_type": "execute_result"
    },
    {
     "data": {
      "image/png": "[encoded data removed]",
      "text/plain": [
       "<Figure size 432x288 with 1 Axes>"
      ]
     },
     "metadata": {
      "needs_background": "light"
     },
     "output_type": "display_data"
    }
   ],
   "source": [
    "df.hist(column='nVenta')"
   ]
  },
  {
   "cell_type": "code",
   "execution_count": 10,
   "id": "ca3c74b3",
   "metadata": {},
   "outputs": [],
   "source": [
    "mask = df['nVenta'] < 1000000"
   ]
  },
  {
   "cell_type": "code",
   "execution_count": 11,
   "id": "582014e4",
   "metadata": {},
   "outputs": [
    {
     "data": {
      "text/plain": [
       "0         True\n",
       "1         True\n",
       "2         True\n",
       "3         True\n",
       "4         True\n",
       "          ... \n",
       "112947    True\n",
       "112948    True\n",
       "112949    True\n",
       "112950    True\n",
       "112951    True\n",
       "Name: nVenta, Length: 112952, dtype: bool"
      ]
     },
     "execution_count": 11,
     "metadata": {},
     "output_type": "execute_result"
    }
   ],
   "source": [
    "mask"
   ]
  },
  {
   "cell_type": "code",
   "execution_count": 12,
   "id": "6711648f",
   "metadata": {},
   "outputs": [],
   "source": [
    "df_2 = df[mask]"
   ]
  },
  {
   "cell_type": "code",
   "execution_count": null,
   "id": "1f8dd148",
   "metadata": {},
   "outputs": [],
   "source": [
    "df_2 = df[df['nVenta'] < 1000000]"
   ]
  },
  {
   "cell_type": "code",
   "execution_count": 13,
   "id": "60b0c54a",
   "metadata": {},
   "outputs": [
    {
     "data": {
      "text/plain": [
       "<AxesSubplot:>"
      ]
     },
     "execution_count": 13,
     "metadata": {},
     "output_type": "execute_result"
    },
    {
     "data": {
      "image/png": "[encoded data removed]",
      "text/plain": [
       "<Figure size 432x288 with 1 Axes>"
      ]
     },
     "metadata": {
      "needs_background": "light"
     },
     "output_type": "display_data"
    }
   ],
   "source": [
    "df_2['nVenta'].hist(bins=40)"
   ]
  },
  {
   "cell_type": "code",
   "execution_count": 14,
   "id": "c6f09c51",
   "metadata": {},
   "outputs": [
    {
     "data": {
      "text/plain": [
       "array([[<AxesSubplot:title={'center':'nVenta'}>]], dtype=object)"
      ]
     },
     "execution_count": 14,
     "metadata": {},
     "output_type": "execute_result"
    },
    {
     "data": {
      "image/png": "[encoded data removed]",
      "text/plain": [
       "<Figure size 432x288 with 1 Axes>"
      ]
     },
     "metadata": {
      "needs_background": "light"
     },
     "output_type": "display_data"
    }
   ],
   "source": [
    "df_2.hist(column='nVenta')"
   ]
  },
  {
   "cell_type": "markdown",
   "id": "ab799409",
   "metadata": {},
   "source": [
    "### Calcular la media, mediana y desviación estándar del valor de las facturas"
   ]
  },
  {
   "cell_type": "markdown",
   "id": "f3e11b1c",
   "metadata": {},
   "source": [
    "A continuacións e mostrara el promedio de las facturas del mes de agosto"
   ]
  },
  {
   "cell_type": "code",
   "execution_count": 47,
   "id": "835d4136",
   "metadata": {},
   "outputs": [
    {
     "data": {
      "text/plain": [
       "array(['Diciembre', 'Noviembre', 'Abril', 'Marzo', 'Enero', 'Septiembre',\n",
       "       'Agosto', 'Octubre', 'Febrero', 'Junio', 'Julio', 'Mayo'],\n",
       "      dtype=object)"
      ]
     },
     "execution_count": 47,
     "metadata": {},
     "output_type": "execute_result"
    }
   ],
   "source": [
    "df_2['MES'].unique()"
   ]
  },
  {
   "cell_type": "code",
   "execution_count": 48,
   "id": "3c6bbd9e",
   "metadata": {},
   "outputs": [],
   "source": [
    "agosto = df_2[df_2['MES']=='Agosto']"
   ]
  },
  {
   "cell_type": "code",
   "execution_count": 83,
   "id": "42c3655e",
   "metadata": {},
   "outputs": [
    {
     "data": {
      "text/html": [
       "<div>\n",
       "<style scoped>\n",
       "    .dataframe tbody tr th:only-of-type {\n",
       "        vertical-align: middle;\n",
       "    }\n",
       "\n",
       "    .dataframe tbody tr th {\n",
       "        vertical-align: top;\n",
       "    }\n",
       "\n",
       "    .dataframe thead th {\n",
       "        text-align: right;\n",
       "    }\n",
       "</style>\n",
       "<table border=\"1\" class=\"dataframe\">\n",
       "  <thead>\n",
       "    <tr style=\"text-align: right;\">\n",
       "      <th></th>\n",
       "      <th>Cedula</th>\n",
       "      <th>Nombre Completo</th>\n",
       "      <th>nCodigoTransaccion</th>\n",
       "      <th>nCodigoConsumidor</th>\n",
       "      <th>Almacen</th>\n",
       "      <th>Categoria</th>\n",
       "      <th>nVenta</th>\n",
       "      <th>nItem</th>\n",
       "      <th>sEmail</th>\n",
       "      <th>Ciudad</th>\n",
       "      <th>...</th>\n",
       "      <th>RECENCIA DIAS</th>\n",
       "      <th>Dirección</th>\n",
       "      <th>MailValido</th>\n",
       "      <th>CelValid</th>\n",
       "      <th>TelefonoMovil</th>\n",
       "      <th>TelOfcValid</th>\n",
       "      <th>TelefonoOficina</th>\n",
       "      <th>TelCasaValid</th>\n",
       "      <th>TelefonoCasa</th>\n",
       "      <th>fecha</th>\n",
       "    </tr>\n",
       "  </thead>\n",
       "  <tbody>\n",
       "    <tr>\n",
       "      <th>20</th>\n",
       "      <td>21</td>\n",
       "      <td>NOMBRE APELLIDO 21</td>\n",
       "      <td>31537050</td>\n",
       "      <td>6536407</td>\n",
       "      <td>Piel De Verano</td>\n",
       "      <td>Moda Femenina</td>\n",
       "      <td>200000</td>\n",
       "      <td>1</td>\n",
       "      <td>NaN</td>\n",
       "      <td>MEDELLIN</td>\n",
       "      <td>...</td>\n",
       "      <td>7</td>\n",
       "      <td>NaN</td>\n",
       "      <td>No</td>\n",
       "      <td>Si</td>\n",
       "      <td>NaN</td>\n",
       "      <td>No</td>\n",
       "      <td>NaN</td>\n",
       "      <td>Si</td>\n",
       "      <td>NaN</td>\n",
       "      <td>2010-08-11</td>\n",
       "    </tr>\n",
       "    <tr>\n",
       "      <th>39</th>\n",
       "      <td>40</td>\n",
       "      <td>NOMBRE APELLIDO 40</td>\n",
       "      <td>27475161</td>\n",
       "      <td>6508701</td>\n",
       "      <td>Stop</td>\n",
       "      <td>Moda Femenina</td>\n",
       "      <td>844000</td>\n",
       "      <td>1</td>\n",
       "      <td>NaN</td>\n",
       "      <td>MEDELLIN</td>\n",
       "      <td>...</td>\n",
       "      <td>19</td>\n",
       "      <td>NaN</td>\n",
       "      <td>No</td>\n",
       "      <td>No</td>\n",
       "      <td>NaN</td>\n",
       "      <td>Si</td>\n",
       "      <td>NaN</td>\n",
       "      <td>Si</td>\n",
       "      <td>NaN</td>\n",
       "      <td>2009-08-21</td>\n",
       "    </tr>\n",
       "    <tr>\n",
       "      <th>98</th>\n",
       "      <td>99</td>\n",
       "      <td>NOMBRE APELLIDO 99</td>\n",
       "      <td>24931599</td>\n",
       "      <td>6114318</td>\n",
       "      <td>Piel De Verano</td>\n",
       "      <td>Moda Femenina</td>\n",
       "      <td>69900</td>\n",
       "      <td>1</td>\n",
       "      <td>NaN</td>\n",
       "      <td>MEDELLIN</td>\n",
       "      <td>...</td>\n",
       "      <td>31</td>\n",
       "      <td>NaN</td>\n",
       "      <td>No</td>\n",
       "      <td>No</td>\n",
       "      <td>NaN</td>\n",
       "      <td>No</td>\n",
       "      <td>NaN</td>\n",
       "      <td>Si</td>\n",
       "      <td>NaN</td>\n",
       "      <td>2008-08-08</td>\n",
       "    </tr>\n",
       "    <tr>\n",
       "      <th>99</th>\n",
       "      <td>100</td>\n",
       "      <td>NOMBRE APELLIDO 100</td>\n",
       "      <td>24931600</td>\n",
       "      <td>6114318</td>\n",
       "      <td>Piel De Verano</td>\n",
       "      <td>Moda Femenina</td>\n",
       "      <td>69900</td>\n",
       "      <td>1</td>\n",
       "      <td>NaN</td>\n",
       "      <td>MEDELLIN</td>\n",
       "      <td>...</td>\n",
       "      <td>31</td>\n",
       "      <td>NaN</td>\n",
       "      <td>No</td>\n",
       "      <td>No</td>\n",
       "      <td>NaN</td>\n",
       "      <td>No</td>\n",
       "      <td>NaN</td>\n",
       "      <td>Si</td>\n",
       "      <td>NaN</td>\n",
       "      <td>2008-08-08</td>\n",
       "    </tr>\n",
       "    <tr>\n",
       "      <th>121</th>\n",
       "      <td>122</td>\n",
       "      <td>NOMBRE APELLIDO 122</td>\n",
       "      <td>24973261</td>\n",
       "      <td>6122696</td>\n",
       "      <td>Nueve Lunas</td>\n",
       "      <td>Moda Femenina</td>\n",
       "      <td>142700</td>\n",
       "      <td>1</td>\n",
       "      <td>NaN</td>\n",
       "      <td>MEDELLIN</td>\n",
       "      <td>...</td>\n",
       "      <td>31</td>\n",
       "      <td>NaN</td>\n",
       "      <td>No</td>\n",
       "      <td>No</td>\n",
       "      <td>NaN</td>\n",
       "      <td>No</td>\n",
       "      <td>NaN</td>\n",
       "      <td>Si</td>\n",
       "      <td>NaN</td>\n",
       "      <td>2008-08-23</td>\n",
       "    </tr>\n",
       "    <tr>\n",
       "      <th>...</th>\n",
       "      <td>...</td>\n",
       "      <td>...</td>\n",
       "      <td>...</td>\n",
       "      <td>...</td>\n",
       "      <td>...</td>\n",
       "      <td>...</td>\n",
       "      <td>...</td>\n",
       "      <td>...</td>\n",
       "      <td>...</td>\n",
       "      <td>...</td>\n",
       "      <td>...</td>\n",
       "      <td>...</td>\n",
       "      <td>...</td>\n",
       "      <td>...</td>\n",
       "      <td>...</td>\n",
       "      <td>...</td>\n",
       "      <td>...</td>\n",
       "      <td>...</td>\n",
       "      <td>...</td>\n",
       "      <td>...</td>\n",
       "      <td>...</td>\n",
       "    </tr>\n",
       "    <tr>\n",
       "      <th>112910</th>\n",
       "      <td>112911</td>\n",
       "      <td>NOMBRE APELLIDO 112911</td>\n",
       "      <td>24962811</td>\n",
       "      <td>6120208</td>\n",
       "      <td>Vibraciones</td>\n",
       "      <td>Moda Masculina y Femenina</td>\n",
       "      <td>126000</td>\n",
       "      <td>1</td>\n",
       "      <td>NaN</td>\n",
       "      <td>MEDELLIN</td>\n",
       "      <td>...</td>\n",
       "      <td>31</td>\n",
       "      <td>NaN</td>\n",
       "      <td>No</td>\n",
       "      <td>Si</td>\n",
       "      <td>NaN</td>\n",
       "      <td>No</td>\n",
       "      <td>NaN</td>\n",
       "      <td>Si</td>\n",
       "      <td>NaN</td>\n",
       "      <td>2008-08-19</td>\n",
       "    </tr>\n",
       "    <tr>\n",
       "      <th>112912</th>\n",
       "      <td>112913</td>\n",
       "      <td>NOMBRE APELLIDO 112913</td>\n",
       "      <td>27496810</td>\n",
       "      <td>6513066</td>\n",
       "      <td>Monas Y Morenas</td>\n",
       "      <td>Moda Femenina</td>\n",
       "      <td>63000</td>\n",
       "      <td>1</td>\n",
       "      <td>NaN</td>\n",
       "      <td>MEDELLIN</td>\n",
       "      <td>...</td>\n",
       "      <td>19</td>\n",
       "      <td>NaN</td>\n",
       "      <td>No</td>\n",
       "      <td>Si</td>\n",
       "      <td>NaN</td>\n",
       "      <td>No</td>\n",
       "      <td>NaN</td>\n",
       "      <td>Si</td>\n",
       "      <td>NaN</td>\n",
       "      <td>2009-08-29</td>\n",
       "    </tr>\n",
       "    <tr>\n",
       "      <th>112937</th>\n",
       "      <td>112938</td>\n",
       "      <td>NOMBRE APELLIDO 112938</td>\n",
       "      <td>27450991</td>\n",
       "      <td>6387637</td>\n",
       "      <td>Pagos Internacionales</td>\n",
       "      <td>Sector Financiero</td>\n",
       "      <td>30000</td>\n",
       "      <td>1</td>\n",
       "      <td>NaN</td>\n",
       "      <td>BELLO</td>\n",
       "      <td>...</td>\n",
       "      <td>19</td>\n",
       "      <td>NaN</td>\n",
       "      <td>No</td>\n",
       "      <td>Si</td>\n",
       "      <td>NaN</td>\n",
       "      <td>No</td>\n",
       "      <td>NaN</td>\n",
       "      <td>Si</td>\n",
       "      <td>NaN</td>\n",
       "      <td>2009-08-18</td>\n",
       "    </tr>\n",
       "    <tr>\n",
       "      <th>112943</th>\n",
       "      <td>112944</td>\n",
       "      <td>NOMBRE APELLIDO 112944</td>\n",
       "      <td>27469221</td>\n",
       "      <td>6507364</td>\n",
       "      <td>Yoyo</td>\n",
       "      <td>Moda Infantil</td>\n",
       "      <td>125000</td>\n",
       "      <td>1</td>\n",
       "      <td>NaN</td>\n",
       "      <td>MEDELLIN</td>\n",
       "      <td>...</td>\n",
       "      <td>19</td>\n",
       "      <td>NaN</td>\n",
       "      <td>No</td>\n",
       "      <td>No</td>\n",
       "      <td>NaN</td>\n",
       "      <td>No</td>\n",
       "      <td>NaN</td>\n",
       "      <td>Si</td>\n",
       "      <td>NaN</td>\n",
       "      <td>2009-08-19</td>\n",
       "    </tr>\n",
       "    <tr>\n",
       "      <th>112951</th>\n",
       "      <td>112952</td>\n",
       "      <td>NOMBRE APELLIDO 112952</td>\n",
       "      <td>31577681</td>\n",
       "      <td>7060684</td>\n",
       "      <td>Monas Y Morenas</td>\n",
       "      <td>Moda Femenina</td>\n",
       "      <td>50000</td>\n",
       "      <td>1</td>\n",
       "      <td>NaN</td>\n",
       "      <td>MEDELLIN</td>\n",
       "      <td>...</td>\n",
       "      <td>7</td>\n",
       "      <td>NaN</td>\n",
       "      <td>Si</td>\n",
       "      <td>Si</td>\n",
       "      <td>NaN</td>\n",
       "      <td>No</td>\n",
       "      <td>NaN</td>\n",
       "      <td>Si</td>\n",
       "      <td>NaN</td>\n",
       "      <td>2010-08-27</td>\n",
       "    </tr>\n",
       "  </tbody>\n",
       "</table>\n",
       "<p>7148 rows × 38 columns</p>\n",
       "</div>"
      ],
      "text/plain": [
       "        Cedula         Nombre Completo  nCodigoTransaccion nCodigoConsumidor  \\\n",
       "20          21      NOMBRE APELLIDO 21            31537050           6536407   \n",
       "39          40      NOMBRE APELLIDO 40            27475161           6508701   \n",
       "98          99      NOMBRE APELLIDO 99            24931599           6114318   \n",
       "99         100     NOMBRE APELLIDO 100            24931600           6114318   \n",
       "121        122     NOMBRE APELLIDO 122            24973261           6122696   \n",
       "...        ...                     ...                 ...               ...   \n",
       "112910  112911  NOMBRE APELLIDO 112911            24962811           6120208   \n",
       "112912  112913  NOMBRE APELLIDO 112913            27496810           6513066   \n",
       "112937  112938  NOMBRE APELLIDO 112938            27450991           6387637   \n",
       "112943  112944  NOMBRE APELLIDO 112944            27469221           6507364   \n",
       "112951  112952  NOMBRE APELLIDO 112952            31577681           7060684   \n",
       "\n",
       "                      Almacen                  Categoria  nVenta  nItem  \\\n",
       "20             Piel De Verano              Moda Femenina  200000      1   \n",
       "39                       Stop              Moda Femenina  844000      1   \n",
       "98             Piel De Verano              Moda Femenina   69900      1   \n",
       "99             Piel De Verano              Moda Femenina   69900      1   \n",
       "121               Nueve Lunas              Moda Femenina  142700      1   \n",
       "...                       ...                        ...     ...    ...   \n",
       "112910            Vibraciones  Moda Masculina y Femenina  126000      1   \n",
       "112912        Monas Y Morenas              Moda Femenina   63000      1   \n",
       "112937  Pagos Internacionales          Sector Financiero   30000      1   \n",
       "112943                   Yoyo              Moda Infantil  125000      1   \n",
       "112951        Monas Y Morenas              Moda Femenina   50000      1   \n",
       "\n",
       "        sEmail    Ciudad  ... RECENCIA DIAS Dirección  MailValido CelValid  \\\n",
       "20         NaN  MEDELLIN  ...             7       NaN          No       Si   \n",
       "39         NaN  MEDELLIN  ...            19       NaN          No       No   \n",
       "98         NaN  MEDELLIN  ...            31       NaN          No       No   \n",
       "99         NaN  MEDELLIN  ...            31       NaN          No       No   \n",
       "121        NaN  MEDELLIN  ...            31       NaN          No       No   \n",
       "...        ...       ...  ...           ...       ...         ...      ...   \n",
       "112910     NaN  MEDELLIN  ...            31       NaN          No       Si   \n",
       "112912     NaN  MEDELLIN  ...            19       NaN          No       Si   \n",
       "112937     NaN     BELLO  ...            19       NaN          No       Si   \n",
       "112943     NaN  MEDELLIN  ...            19       NaN          No       No   \n",
       "112951     NaN  MEDELLIN  ...             7       NaN          Si       Si   \n",
       "\n",
       "        TelefonoMovil TelOfcValid TelefonoOficina TelCasaValid TelefonoCasa  \\\n",
       "20                NaN          No             NaN           Si          NaN   \n",
       "39                NaN          Si             NaN           Si          NaN   \n",
       "98                NaN          No             NaN           Si          NaN   \n",
       "99                NaN          No             NaN           Si          NaN   \n",
       "121               NaN          No             NaN           Si          NaN   \n",
       "...               ...         ...             ...          ...          ...   \n",
       "112910            NaN          No             NaN           Si          NaN   \n",
       "112912            NaN          No             NaN           Si          NaN   \n",
       "112937            NaN          No             NaN           Si          NaN   \n",
       "112943            NaN          No             NaN           Si          NaN   \n",
       "112951            NaN          No             NaN           Si          NaN   \n",
       "\n",
       "             fecha  \n",
       "20      2010-08-11  \n",
       "39      2009-08-21  \n",
       "98      2008-08-08  \n",
       "99      2008-08-08  \n",
       "121     2008-08-23  \n",
       "...            ...  \n",
       "112910  2008-08-19  \n",
       "112912  2009-08-29  \n",
       "112937  2009-08-18  \n",
       "112943  2009-08-19  \n",
       "112951  2010-08-27  \n",
       "\n",
       "[7148 rows x 38 columns]"
      ]
     },
     "execution_count": 83,
     "metadata": {},
     "output_type": "execute_result"
    }
   ],
   "source": [
    "agosto"
   ]
  },
  {
   "cell_type": "code",
   "execution_count": 50,
   "id": "310f7274",
   "metadata": {},
   "outputs": [],
   "source": [
    "promedio_agosto = agosto['nVenta'].mean()"
   ]
  },
  {
   "cell_type": "code",
   "execution_count": 51,
   "id": "ee779077",
   "metadata": {},
   "outputs": [
    {
     "name": "stdout",
     "output_type": "stream",
     "text": [
      "El promedio de agsoto es 157160.31743144937\n"
     ]
    }
   ],
   "source": [
    "print('El promedio de agsoto es {}'.format(promedio_agosto))"
   ]
  },
  {
   "cell_type": "code",
   "execution_count": 52,
   "id": "e35c2d7f",
   "metadata": {},
   "outputs": [
    {
     "name": "stdout",
     "output_type": "stream",
     "text": [
      "La mediana de agsoto es 113000.0\n"
     ]
    }
   ],
   "source": [
    "mediana_agosto = agosto['nVenta'].median()\n",
    "print('La mediana de agsoto es {}'.format(mediana_agosto))"
   ]
  },
  {
   "cell_type": "code",
   "execution_count": 53,
   "id": "cd4ddf4b",
   "metadata": {},
   "outputs": [
    {
     "name": "stdout",
     "output_type": "stream",
     "text": [
      "La desviación de agsoto es 141341.59371637373\n"
     ]
    }
   ],
   "source": [
    "desviación_agosto = agosto['nVenta'].std()\n",
    "print('La desviación de agsoto es {}'.format(desviación_agosto))"
   ]
  },
  {
   "cell_type": "markdown",
   "id": "a48eae64",
   "metadata": {},
   "source": [
    "### Identificar día y mes que mas se registran facturas (moda)"
   ]
  },
  {
   "cell_type": "code",
   "execution_count": 55,
   "id": "0f6584ce",
   "metadata": {},
   "outputs": [
    {
     "data": {
      "text/plain": [
       "0    Diciembre\n",
       "dtype: object"
      ]
     },
     "execution_count": 55,
     "metadata": {},
     "output_type": "execute_result"
    }
   ],
   "source": [
    "df_2['MES'].mode()"
   ]
  },
  {
   "cell_type": "code",
   "execution_count": 56,
   "id": "7a622954",
   "metadata": {},
   "outputs": [
    {
     "data": {
      "text/plain": [
       "Diciembre     28201\n",
       "Noviembre     11306\n",
       "Septiembre     9412\n",
       "Octubre        9259\n",
       "Enero          7968\n",
       "Marzo          7274\n",
       "Agosto         7148\n",
       "Mayo           6686\n",
       "Junio          6644\n",
       "Febrero        6443\n",
       "Julio          6340\n",
       "Abril          4966\n",
       "Name: MES, dtype: int64"
      ]
     },
     "execution_count": 56,
     "metadata": {},
     "output_type": "execute_result"
    }
   ],
   "source": [
    "df_2['MES'].value_counts()"
   ]
  },
  {
   "cell_type": "code",
   "execution_count": 95,
   "id": "9be235e7",
   "metadata": {},
   "outputs": [
    {
     "data": {
      "text/plain": [
       "MES\n",
       "Diciembre     28201\n",
       "Noviembre     11306\n",
       "Septiembre     9412\n",
       "Octubre        9259\n",
       "Enero          7968\n",
       "Marzo          7274\n",
       "Agosto         7148\n",
       "Mayo           6686\n",
       "Junio          6644\n",
       "Febrero        6443\n",
       "Julio          6340\n",
       "Abril          4966\n",
       "Name: Almacen, dtype: int64"
      ]
     },
     "execution_count": 95,
     "metadata": {},
     "output_type": "execute_result"
    }
   ],
   "source": [
    "df_2.groupby('MES').count()['Almacen'].sort_values(ascending=False)"
   ]
  },
  {
   "cell_type": "code",
   "execution_count": 60,
   "id": "4c54df85",
   "metadata": {},
   "outputs": [
    {
     "data": {
      "text/plain": [
       "23    4280\n",
       "24    4194\n",
       "22    4083\n",
       "29    4044\n",
       "28    4036\n",
       "19    3956\n",
       "4     3948\n",
       "5     3936\n",
       "30    3885\n",
       "26    3832\n",
       "18    3782\n",
       "16    3781\n",
       "9     3719\n",
       "17    3694\n",
       "2     3658\n",
       "6     3655\n",
       "27    3596\n",
       "21    3591\n",
       "3     3576\n",
       "15    3512\n",
       "13    3490\n",
       "14    3459\n",
       "11    3454\n",
       "12    3436\n",
       "20    3374\n",
       "10    3350\n",
       "7     3337\n",
       "8     3065\n",
       "25    2954\n",
       "1     2606\n",
       "31    2364\n",
       "Name: DIA, dtype: int64"
      ]
     },
     "execution_count": 60,
     "metadata": {},
     "output_type": "execute_result"
    }
   ],
   "source": [
    "df_2['DIA'].value_counts()"
   ]
  },
  {
   "cell_type": "markdown",
   "id": "c544038b",
   "metadata": {},
   "source": [
    "### Mostrar en un gráfico de barras la cantidad de facturas registradas por hombres y mujeres"
   ]
  },
  {
   "cell_type": "code",
   "execution_count": 15,
   "id": "509ca479",
   "metadata": {},
   "outputs": [
    {
     "data": {
      "text/plain": [
       "Index(['Cedula', 'Nombre Completo', 'nCodigoTransaccion', 'nCodigoConsumidor',\n",
       "       'Almacen', 'Categoria', 'nVenta', 'nItem', 'sEmail', 'Ciudad',\n",
       "       'nCodigoGenero', 'nCodigoEstadoCivil', 'ANO', 'MES', 'DIA', 'DIASEMANA',\n",
       "       'ANOMES', 'ANOMESDIA', 'SEMESTRE', 'VentasMM', 'SEMESTREDIG', 'ANONCTO',\n",
       "       'MESNCTO', 'DIANCTO', 'DIASEMANANCTO', 'ANOMESNCTO', 'ANOMESDIANCTO',\n",
       "       'EDAD', 'RECENCIA DIAS', 'Dirección', 'MailValido', 'CelValid',\n",
       "       'TelefonoMovil', 'TelOfcValid', 'TelefonoOficina', 'TelCasaValid',\n",
       "       'TelefonoCasa'],\n",
       "      dtype='object')"
      ]
     },
     "execution_count": 15,
     "metadata": {},
     "output_type": "execute_result"
    }
   ],
   "source": [
    "df_2.columns"
   ]
  },
  {
   "cell_type": "code",
   "execution_count": 20,
   "id": "3c5e2ca8",
   "metadata": {},
   "outputs": [
    {
     "data": {
      "text/plain": [
       "nCodigoGenero\n",
       "Hombre    18994\n",
       "Mujer     92653\n",
       "Name: nVenta, dtype: int64"
      ]
     },
     "execution_count": 20,
     "metadata": {},
     "output_type": "execute_result"
    }
   ],
   "source": [
    "df_2.groupby('nCodigoGenero').count()['nVenta']"
   ]
  },
  {
   "cell_type": "markdown",
   "id": "5b462a2c",
   "metadata": {},
   "source": [
    "### Cantidad de facturas registradas por cada almacen"
   ]
  },
  {
   "cell_type": "code",
   "execution_count": 119,
   "id": "d5c8566f",
   "metadata": {},
   "outputs": [
    {
     "data": {
      "text/plain": [
       "Almacen\n",
       "Chalis Balenciaga    8896\n",
       "Calzado Goysa        7210\n",
       "Bon Bonite           7041\n",
       "Vibraciones          5603\n",
       "Chalis Sport         5438\n",
       "Stop                 5069\n",
       "Spring Step          4284\n",
       "Chicos Y Chicas      4150\n",
       "Vamos                4059\n",
       "Monas Y Morenas      3732\n",
       "Name: nVenta, dtype: int64"
      ]
     },
     "execution_count": 119,
     "metadata": {},
     "output_type": "execute_result"
    }
   ],
   "source": [
    "#Cuenta de facturas\n",
    "almacenes_top_facturas = df_2.groupby('Almacen').count()['nVenta'].sort_values(ascending=False)[0:10]\n",
    "almacenes_top_facturas"
   ]
  },
  {
   "cell_type": "code",
   "execution_count": 54,
   "id": "48adc58b",
   "metadata": {},
   "outputs": [],
   "source": [
    "agosto = df_2[df_2['MES']=='Agosto']"
   ]
  },
  {
   "cell_type": "code",
   "execution_count": 65,
   "id": "6f9c2049",
   "metadata": {},
   "outputs": [
    {
     "data": {
      "text/plain": [
       "MES        DIA\n",
       "Marzo      22      6314000\n",
       "Mayo       25      6836000\n",
       "           1       9460000\n",
       "Abril      6       9737000\n",
       "           11      9863700\n",
       "Febrero    20     10366700\n",
       "Abril      5      10454000\n",
       "Agosto     17     11283000\n",
       "Junio      30     11433200\n",
       "Abril      9      11434000\n",
       "           12     12387400\n",
       "Junio      29     13130000\n",
       "           22     13944000\n",
       "Octubre    12     14570436\n",
       "Noviembre  2      14811000\n",
       "Mayo       17     15462893\n",
       "Junio      15     15657000\n",
       "Julio      5      15924800\n",
       "           6      17365700\n",
       "Abril      3      17576900\n",
       "Mayo       11     18365700\n",
       "           26     18551000\n",
       "Noviembre  1      18555000\n",
       "Agosto     16     19666350\n",
       "Enero      10     20185000\n",
       "Marzo      21     20310800\n",
       "Junio      8      20451700\n",
       "Julio      27     20599500\n",
       "Abril      13     20927900\n",
       "Enero      11     21153000\n",
       "Name: nVenta, dtype: int64"
      ]
     },
     "execution_count": 65,
     "metadata": {},
     "output_type": "execute_result"
    }
   ],
   "source": [
    "df_2.groupby(['MES','DIA'])['nVenta'].sum().sort_values(ascending=True)[:30]"
   ]
  },
  {
   "cell_type": "code",
   "execution_count": 85,
   "id": "ed333df0",
   "metadata": {},
   "outputs": [
    {
     "data": {
      "text/html": [
       "<div>\n",
       "<style scoped>\n",
       "    .dataframe tbody tr th:only-of-type {\n",
       "        vertical-align: middle;\n",
       "    }\n",
       "\n",
       "    .dataframe tbody tr th {\n",
       "        vertical-align: top;\n",
       "    }\n",
       "\n",
       "    .dataframe thead tr th {\n",
       "        text-align: left;\n",
       "    }\n",
       "\n",
       "    .dataframe thead tr:last-of-type th {\n",
       "        text-align: right;\n",
       "    }\n",
       "</style>\n",
       "<table border=\"1\" class=\"dataframe\">\n",
       "  <thead>\n",
       "    <tr>\n",
       "      <th></th>\n",
       "      <th colspan=\"3\" halign=\"left\">nVenta</th>\n",
       "      <th>ANOMESDIA</th>\n",
       "    </tr>\n",
       "    <tr>\n",
       "      <th></th>\n",
       "      <th>sum</th>\n",
       "      <th>count</th>\n",
       "      <th>mean</th>\n",
       "      <th>nunique</th>\n",
       "    </tr>\n",
       "    <tr>\n",
       "      <th>Almacen</th>\n",
       "      <th></th>\n",
       "      <th></th>\n",
       "      <th></th>\n",
       "      <th></th>\n",
       "    </tr>\n",
       "  </thead>\n",
       "  <tbody>\n",
       "    <tr>\n",
       "      <th>120…</th>\n",
       "      <td>350000</td>\n",
       "      <td>2</td>\n",
       "      <td>175000.000000</td>\n",
       "      <td>2</td>\n",
       "    </tr>\n",
       "    <tr>\n",
       "      <th>203-</th>\n",
       "      <td>10789000</td>\n",
       "      <td>21</td>\n",
       "      <td>513761.904762</td>\n",
       "      <td>12</td>\n",
       "    </tr>\n",
       "    <tr>\n",
       "      <th>213.</th>\n",
       "      <td>30000</td>\n",
       "      <td>1</td>\n",
       "      <td>30000.000000</td>\n",
       "      <td>1</td>\n",
       "    </tr>\n",
       "    <tr>\n",
       "      <th>Administracion</th>\n",
       "      <td>25835802</td>\n",
       "      <td>138</td>\n",
       "      <td>187215.956522</td>\n",
       "      <td>71</td>\n",
       "    </tr>\n",
       "    <tr>\n",
       "      <th>Artes Y Cia.</th>\n",
       "      <td>24778784</td>\n",
       "      <td>158</td>\n",
       "      <td>156827.746835</td>\n",
       "      <td>127</td>\n",
       "    </tr>\n",
       "    <tr>\n",
       "      <th>...</th>\n",
       "      <td>...</td>\n",
       "      <td>...</td>\n",
       "      <td>...</td>\n",
       "      <td>...</td>\n",
       "    </tr>\n",
       "    <tr>\n",
       "      <th>Vluzy</th>\n",
       "      <td>126547100</td>\n",
       "      <td>1094</td>\n",
       "      <td>115673.765996</td>\n",
       "      <td>393</td>\n",
       "    </tr>\n",
       "    <tr>\n",
       "      <th>World Tv</th>\n",
       "      <td>16301999</td>\n",
       "      <td>104</td>\n",
       "      <td>156749.990385</td>\n",
       "      <td>84</td>\n",
       "    </tr>\n",
       "    <tr>\n",
       "      <th>Yoyo</th>\n",
       "      <td>203307380</td>\n",
       "      <td>1484</td>\n",
       "      <td>136999.582210</td>\n",
       "      <td>527</td>\n",
       "    </tr>\n",
       "    <tr>\n",
       "      <th>Z</th>\n",
       "      <td>9076000</td>\n",
       "      <td>36</td>\n",
       "      <td>252111.111111</td>\n",
       "      <td>28</td>\n",
       "    </tr>\n",
       "    <tr>\n",
       "      <th>Zabas</th>\n",
       "      <td>569193638</td>\n",
       "      <td>2763</td>\n",
       "      <td>206005.659790</td>\n",
       "      <td>462</td>\n",
       "    </tr>\n",
       "  </tbody>\n",
       "</table>\n",
       "<p>126 rows × 4 columns</p>\n",
       "</div>"
      ],
      "text/plain": [
       "                   nVenta                      ANOMESDIA\n",
       "                      sum count           mean   nunique\n",
       "Almacen                                                 \n",
       "120…               350000     2  175000.000000         2\n",
       "203-             10789000    21  513761.904762        12\n",
       "213.                30000     1   30000.000000         1\n",
       "Administracion   25835802   138  187215.956522        71\n",
       "Artes Y Cia.     24778784   158  156827.746835       127\n",
       "...                   ...   ...            ...       ...\n",
       "Vluzy           126547100  1094  115673.765996       393\n",
       "World Tv         16301999   104  156749.990385        84\n",
       "Yoyo            203307380  1484  136999.582210       527\n",
       "Z                 9076000    36  252111.111111        28\n",
       "Zabas           569193638  2763  206005.659790       462\n",
       "\n",
       "[126 rows x 4 columns]"
      ]
     },
     "execution_count": 85,
     "metadata": {},
     "output_type": "execute_result"
    }
   ],
   "source": [
    "# Suma y cuenta total del valor de las facturas por cada almacen\n",
    "temp = df_2.groupby('Almacen').agg({'nVenta':['sum','count','mean'],'ANOMESDIA':'nunique'})\n",
    "temp"
   ]
  },
  {
   "cell_type": "code",
   "execution_count": 89,
   "id": "a332b2d9",
   "metadata": {},
   "outputs": [
    {
     "data": {
      "text/html": [
       "<div>\n",
       "<style scoped>\n",
       "    .dataframe tbody tr th:only-of-type {\n",
       "        vertical-align: middle;\n",
       "    }\n",
       "\n",
       "    .dataframe tbody tr th {\n",
       "        vertical-align: top;\n",
       "    }\n",
       "\n",
       "    .dataframe thead tr th {\n",
       "        text-align: left;\n",
       "    }\n",
       "\n",
       "    .dataframe thead tr:last-of-type th {\n",
       "        text-align: right;\n",
       "    }\n",
       "</style>\n",
       "<table border=\"1\" class=\"dataframe\">\n",
       "  <thead>\n",
       "    <tr>\n",
       "      <th></th>\n",
       "      <th colspan=\"3\" halign=\"left\">nVenta</th>\n",
       "      <th>ANOMESDIA</th>\n",
       "    </tr>\n",
       "    <tr>\n",
       "      <th></th>\n",
       "      <th>sum</th>\n",
       "      <th>count</th>\n",
       "      <th>mean</th>\n",
       "      <th>nunique</th>\n",
       "    </tr>\n",
       "    <tr>\n",
       "      <th>Almacen</th>\n",
       "      <th></th>\n",
       "      <th></th>\n",
       "      <th></th>\n",
       "      <th></th>\n",
       "    </tr>\n",
       "  </thead>\n",
       "  <tbody>\n",
       "    <tr>\n",
       "      <th>Chalis Balenciaga</th>\n",
       "      <td>2098789461</td>\n",
       "      <td>8896</td>\n",
       "      <td>235925.074303</td>\n",
       "      <td>877</td>\n",
       "    </tr>\n",
       "    <tr>\n",
       "      <th>Vibraciones</th>\n",
       "      <td>1376205639</td>\n",
       "      <td>5603</td>\n",
       "      <td>245619.425129</td>\n",
       "      <td>807</td>\n",
       "    </tr>\n",
       "    <tr>\n",
       "      <th>Chalis Sport</th>\n",
       "      <td>1315241938</td>\n",
       "      <td>5438</td>\n",
       "      <td>241861.334682</td>\n",
       "      <td>857</td>\n",
       "    </tr>\n",
       "    <tr>\n",
       "      <th>Bon Bonite</th>\n",
       "      <td>1288442707</td>\n",
       "      <td>7041</td>\n",
       "      <td>182991.436870</td>\n",
       "      <td>830</td>\n",
       "    </tr>\n",
       "    <tr>\n",
       "      <th>Colchones Comodisimos</th>\n",
       "      <td>886748932</td>\n",
       "      <td>2169</td>\n",
       "      <td>408828.461042</td>\n",
       "      <td>682</td>\n",
       "    </tr>\n",
       "    <tr>\n",
       "      <th>...</th>\n",
       "      <td>...</td>\n",
       "      <td>...</td>\n",
       "      <td>...</td>\n",
       "      <td>...</td>\n",
       "    </tr>\n",
       "    <tr>\n",
       "      <th>Cachibromas</th>\n",
       "      <td>63000</td>\n",
       "      <td>1</td>\n",
       "      <td>63000.000000</td>\n",
       "      <td>1</td>\n",
       "    </tr>\n",
       "    <tr>\n",
       "      <th>Friz Helados</th>\n",
       "      <td>61000</td>\n",
       "      <td>1</td>\n",
       "      <td>61000.000000</td>\n",
       "      <td>1</td>\n",
       "    </tr>\n",
       "    <tr>\n",
       "      <th>Pastel Y Cafê</th>\n",
       "      <td>55000</td>\n",
       "      <td>1</td>\n",
       "      <td>55000.000000</td>\n",
       "      <td>1</td>\n",
       "    </tr>\n",
       "    <tr>\n",
       "      <th>BICICLETAS MILAN LOC. 127-129</th>\n",
       "      <td>53300</td>\n",
       "      <td>1</td>\n",
       "      <td>53300.000000</td>\n",
       "      <td>1</td>\n",
       "    </tr>\n",
       "    <tr>\n",
       "      <th>213.</th>\n",
       "      <td>30000</td>\n",
       "      <td>1</td>\n",
       "      <td>30000.000000</td>\n",
       "      <td>1</td>\n",
       "    </tr>\n",
       "  </tbody>\n",
       "</table>\n",
       "<p>126 rows × 4 columns</p>\n",
       "</div>"
      ],
      "text/plain": [
       "                                   nVenta                      ANOMESDIA\n",
       "                                      sum count           mean   nunique\n",
       "Almacen                                                                 \n",
       "Chalis Balenciaga              2098789461  8896  235925.074303       877\n",
       "Vibraciones                    1376205639  5603  245619.425129       807\n",
       "Chalis Sport                   1315241938  5438  241861.334682       857\n",
       "Bon Bonite                     1288442707  7041  182991.436870       830\n",
       "Colchones Comodisimos           886748932  2169  408828.461042       682\n",
       "...                                   ...   ...            ...       ...\n",
       "Cachibromas                         63000     1   63000.000000         1\n",
       "Friz Helados                        61000     1   61000.000000         1\n",
       "Pastel Y Cafê                       55000     1   55000.000000         1\n",
       "BICICLETAS MILAN LOC. 127-129       53300     1   53300.000000         1\n",
       "213.                                30000     1   30000.000000         1\n",
       "\n",
       "[126 rows x 4 columns]"
      ]
     },
     "execution_count": 89,
     "metadata": {},
     "output_type": "execute_result"
    }
   ],
   "source": [
    "temp.sort_values(('nVenta','sum'),ascending=False)"
   ]
  }
 ],
 "metadata": {
  "kernelspec": {
   "display_name": "Python 3",
   "language": "python",
   "name": "python3"
  },
  "language_info": {
   "codemirror_mode": {
    "name": "ipython",
    "version": 3
   },
   "file_extension": ".py",
   "mimetype": "text/x-python",
   "name": "python",
   "nbconvert_exporter": "python",
   "pygments_lexer": "ipython3",
   "version": "3.9.5"
  }
 },
 "nbformat": 4,
 "nbformat_minor": 5
}
